{
 "cells": [
  {
   "cell_type": "markdown",
   "id": "6b1bec4d-65c2-4b82-8ac3-d8a552dee8e7",
   "metadata": {
    "editable": false,
    "nteract": {
     "transient": {
      "deleting": false
     }
    },
    "slideshow": {
     "slide_type": "slide"
    },
    "tags": []
   },
   "source": [
    "# Build Your Own Firewall\n",
    "\n",
    "Some sessions will be delivered using these notebooks within Teams assignments. This is an experiment but it should mean we explore can explore data and code whilst taking notes and storing your work.\n",
    "\n",
    "- Assignment : Build Your Own Firewall\n",
    "- \n",
    "Open firewall.ipynb\n",
    "- **Trust** it\n",
    "- Hit **Continue** in the top rightf\n",
    "Click \"Shift + Enter\" to pass though each block\n",
    "ed)\n",
    "\n",
    "You will be pressing \"Shift + Enter\" a lot. There are blank blocks between slides thou you just need to \"Shift + Enter\" through"
   ]
  },
  {
   "cell_type": "markdown",
   "id": "cc45b765-3f67-47d8-9854-c8805dad59d5",
   "metadata": {
    "editable": false,
    "nteract": {
     "transient": {
      "deleting": false
     }
    },
    "slideshow": {
     "slide_type": "slide"
    },
    "tags": []
   },
   "source": [
    "## Set up\n",
    "Press \"Shift + Enter\" to run the code that will install the libraries you will need.\n",
    "This is done in such a way that this code should run in several enviroment and when run on a Linux machine can work as a real firewall."
   ]
  },
  {
   "cell_type": "code",
   "execution_count": null,
   "id": "efd9ac3b-37af-40e0-86bb-4f2398757bee",
   "metadata": {
    "collapsed": false,
    "editable": false,
    "jupyter": {
     "outputs_hidden": false,
     "source_hidden": false
    },
    "nteract": {
     "transient": {
      "deleting": false
     }
    },
    "slideshow": {
     "slide_type": ""
    },
    "tags": []
   },
   "outputs": [],
   "source": [
    "import os\n",
    "import sys\n",
    "import time\n",
    "from collections import defaultdict\n",
    "\n",
    "LIVE = os.uname().sysname == 'Linux' and 'codespaces' not in os.uname().nodename\n",
    "PYOLITE = os.uname().sysname == 'Emscripten'\n",
    "try:\n",
    "    import micropip\n",
    "    await micropip.install([\"pyoliteutils\"])\n",
    "except:\n",
    "    pass\n",
    "    \n",
    "WHITELISTFILE = \"whitelist.txt\"\n",
    "BLACKLISTFILE = \"blacklist.txt\"\n",
    "LOGFILE = \"logs.txt\"\n",
    "\n",
    "if PYOLITE:\n",
    "    from pyoliteutils import *\n",
    "    GITFOLDERURL = \"https://raw.githubusercontent.com/UTCSheffield/Y10-Computing-GCSE-jupyter/main/content/Firewall/\"\n",
    "    await get_file_from_url(GITFOLDERURL+WHITELISTFILE)\n",
    "    await get_file_from_url(GITFOLDERURL+BLACKLISTFILE)\n",
    "    await get_file_from_url(GITFOLDERURL+LOGFILE, force=True)\n",
    "    LINUX = False\n",
    "\n",
    "if LIVE:\n",
    "    from scapy.all import sniff, IP, TCP"
   ]
  },
  {
   "cell_type": "markdown",
   "id": "19ffe7aa-abe8-48ec-84a4-74832f957bc3",
   "metadata": {
    "editable": false,
    "nteract": {
     "transient": {
      "deleting": false
     }
    },
    "slideshow": {
     "slide_type": "slide"
    },
    "tags": []
   },
   "source": [
    "# What is a Firewall?"
   ]
  },
  {
   "cell_type": "code",
   "execution_count": null,
   "id": "fa08f579-7a9c-4740-a0cd-f9b961b06628",
   "metadata": {
    "collapsed": false,
    "editable": true,
    "jupyter": {
     "outputs_hidden": false,
     "source_hidden": false
    },
    "nteract": {
     "transient": {
      "deleting": false
     }
    },
    "slideshow": {
     "slide_type": ""
    },
    "tags": []
   },
   "outputs": [],
   "source": [
    "mermaid(\"\"\"\n",
    "mindmap\n",
    "  )What is a Firewall?(\n",
    "    Idea 1\n",
    "    Idea 2\n",
    "        Related Thought\n",
    "\"\"\")"
   ]
  },
  {
   "cell_type": "markdown",
   "id": "832a391a-4fcb-4386-a25f-283d420b24ed",
   "metadata": {
    "editable": false,
    "nteract": {
     "transient": {
      "deleting": false
     }
    },
    "slideshow": {
     "slide_type": ""
    },
    "tags": []
   },
   "source": [
    "[Video answer](https://www.youtube.com/watch?v=UfyF6CvL4Ts&t=94s)"
   ]
  },
  {
   "cell_type": "markdown",
   "id": "d8fad930-f301-4792-9e36-ff84dc600847",
   "metadata": {
    "editable": false,
    "nteract": {
     "transient": {
      "deleting": false
     }
    },
    "slideshow": {
     "slide_type": "slide"
    },
    "tags": []
   },
   "source": [
    "## Scaffolding\n",
    "\n",
    "- Loading a text file of IPs into an array / list\n",
    "- Logging the firewalls activity so we can check it later"
   ]
  },
  {
   "cell_type": "code",
   "execution_count": null,
   "id": "6aaccf70-751d-460a-850c-58ae7131f22b",
   "metadata": {
    "editable": false,
    "slideshow": {
     "slide_type": ""
    },
    "tags": []
   },
   "outputs": [],
   "source": [
    "THRESHOLD = 100 # 100 requests per second is too much\n",
    "DEBUG = True\n",
    "DEFAULTALLOW = True # Allow unknnown traffic (you would normally dow this)\n",
    "\n",
    "# Read IPs from a file\n",
    "def read_ip_file(filename):\n",
    "    with open(filename, \"r\") as file:\n",
    "        ips = [line.strip() for line in file]\n",
    "    return set(ips)\n",
    "\n",
    "# Log events to a file\n",
    "def log_event(message):\n",
    "    if (DEBUG):\n",
    "        print(message)\n",
    "    \n",
    "    if (LIVE):\n",
    "        log_folder = \"logs\"\n",
    "        os.makedirs(log_folder, exist_ok=True)\n",
    "        timestamp = time.strftime(\"%Y-%m-%d_%H-%M-%S\", time.localtime())\n",
    "        log_file = os.path.join(log_folder, f\"log_{timestamp}.txt\")\n",
    "        \n",
    "        with open(log_file, \"a\") as file:\n",
    "            file.write(f\"{message}\\n\")\n",
    "    else:\n",
    "        timestamp = time.strftime(\"%Y-%m-%d_%H-%M-%S\", time.localtime())\n",
    "        \n",
    "        with open(LOGFILE, \"a\") as file:\n",
    "            file.write(f\"{timestamp} : {message}\\n\")"
   ]
  },
  {
   "cell_type": "markdown",
   "id": "8d30391d-24be-47de-ba01-6c348cba5c7f",
   "metadata": {
    "editable": false,
    "nteract": {
     "transient": {
      "deleting": false
     }
    },
    "slideshow": {
     "slide_type": "slide"
    },
    "tags": []
   },
   "source": [
    "## Some checks\n",
    "\n",
    "Because of python rules we need to define functions that do things before we try to use them"
   ]
  },
  {
   "cell_type": "code",
   "execution_count": null,
   "id": "8631c561-86d2-4a0c-bb9b-4468b3496e95",
   "metadata": {
    "collapsed": false,
    "editable": false,
    "jupyter": {
     "outputs_hidden": false,
     "source_hidden": false
    },
    "nteract": {
     "transient": {
      "deleting": false
     }
    },
    "slideshow": {
     "slide_type": ""
    },
    "tags": []
   },
   "outputs": [],
   "source": [
    "# Check for Nimda worm signature\n",
    "def is_nimda_worm(packet):\n",
    "    if packet.haslayer(TCP) and packet[TCP].dport == 80:\n",
    "        payload = packet[TCP].payload\n",
    "        return \"GET /scripts/root.exe\" in str(payload)\n",
    "    return False\n",
    "\n",
    "# Check a Scapy Packet and block if needed\n",
    "def packet_callback(packet):\n",
    "    # Check for Nimda worm signature\n",
    "    if is_nimda_worm(packet):\n",
    "        print(f\"Blocking Nimda source IP: {src_ip}\")\n",
    "        if LIVE:\n",
    "            os.system(f\"iptables -A INPUT -s {src_ip} -j DROP\")\n",
    "        log_event(f\"Blocking Nimda source IP: {src_ip}\")\n",
    "        return False\n",
    "\n",
    "    return is_allowed(src_ip=packet[IP].src, dst_ip=packet[IP].dst, dport=packet[TCP].dport)\n",
    "\n",
    "# Check if a packet trying to access a Port is allowed\n",
    "def is_port_allowed(dport=None):\n",
    "    return True\n",
    "\n",
    "# Check if a packet is allowed to go to a destination machine\n",
    "def is_dst_ip_allowed(dst_ip=None):\n",
    "    return True"
   ]
  },
  {
   "cell_type": "markdown",
   "id": "154f5651-6bb9-4d92-ba4e-68f9332e357c",
   "metadata": {
    "editable": false,
    "nteract": {
     "transient": {
      "deleting": false
     }
    },
    "slideshow": {
     "slide_type": "slide"
    },
    "tags": []
   },
   "source": [
    "## Main Checking function"
   ]
  },
  {
   "cell_type": "code",
   "execution_count": null,
   "id": "6a0e5e88-e886-46bd-8321-90f28dc2a29b",
   "metadata": {
    "collapsed": false,
    "editable": false,
    "jupyter": {
     "outputs_hidden": false,
     "source_hidden": false
    },
    "nteract": {
     "transient": {
      "deleting": false
     }
    },
    "slideshow": {
     "slide_type": ""
    },
    "tags": []
   },
   "outputs": [],
   "source": [
    "#Check if a packet is Allowed (if not its blocked)\n",
    "def is_allowed(src_ip=None, dst_ip=None, dport=None):\n",
    "    if src_ip==None:\n",
    "        return False\n",
    "\n",
    "    # Check if the port is allowed\n",
    "    if not is_port_allowed(dport):\n",
    "        return False\n",
    "\n",
    "    # Check if IP is in the whitelist\n",
    "    if src_ip in whitelist_ips:\n",
    "        return True\n",
    "\n",
    "    # Check if IP is in the blacklist\n",
    "    if src_ip in blacklist_ips:\n",
    "        if LIVE: # If we are running this live on a real linux machine\n",
    "            os.system(f\"iptables -A INPUT -s {src_ip} -j DROP\") # Add this to our real firewall rules\n",
    "        log_event(f\"Blocking blacklisted IP: {src_ip}\")\n",
    "        return False\n",
    "\n",
    "    # Check if IP is in the blocklist\n",
    "    if src_ip in blocked_ips:\n",
    "        if LIVE:\n",
    "            os.system(f\"iptables -A INPUT -s {src_ip} -j DROP\")\n",
    "        log_event(f\"Blocking blocked IP: {src_ip}\")\n",
    "        return False\n",
    "\n",
    "    # Count the packets coming from an IP\n",
    "    packet_count[src_ip] += 1\n",
    "\n",
    "    current_time = time.time()\n",
    "    time_interval = current_time - start_time[0]\n",
    "    \n",
    "    # In pyolite there aren't delays, in the real world we can check every second\n",
    "    if PYOLITE or time_interval >=1 :\n",
    "        for ip, count in packet_count.items():\n",
    "            if PYOLITE :\n",
    "                packet_rate = count\n",
    "            else:    \n",
    "                packet_rate = count / time_interval\n",
    "            #print(\"packet_rate\", packet_rate)\n",
    "            if (packet_rate > THRESHOLD) and ip not in blocked_ips:\n",
    "                print(f\"Blocking IP: {ip}, packet rate: {packet_rate}\")\n",
    "                if LIVE:\n",
    "                    os.system(f\"iptables -A INPUT -s {ip} -j DROP\")\n",
    "                log_event(f\"Blocking IP: {ip}, packet rate: {packet_rate}\")\n",
    "                blocked_ips.add(ip)\n",
    "                return False\n",
    "        \n",
    "        if not PYOLITE :\n",
    "            packet_count.clear()\n",
    "            start_time[0] = current_time\n",
    "\n",
    "    if not is_dst_ip_allowed(dst_ip):\n",
    "        return False\n",
    "        \n",
    "    if DEFAULTALLOW :\n",
    "        log_event(f\"Allowing IP: {src_ip}\")\n",
    "        return True\n",
    "    log_event(f\"Blocking IP: {src_ip}\")\n",
    "    return False #True"
   ]
  },
  {
   "cell_type": "markdown",
   "id": "0a667fcd-79f0-4362-9393-721888554fe0",
   "metadata": {
    "editable": false,
    "nteract": {
     "transient": {
      "deleting": false
     }
    },
    "slideshow": {
     "slide_type": "slide"
    },
    "tags": []
   },
   "source": [
    "## Load the whitelists and blacklists"
   ]
  },
  {
   "cell_type": "code",
   "execution_count": null,
   "id": "bacdd7af-0584-4022-bb99-130534212929",
   "metadata": {
    "collapsed": false,
    "editable": false,
    "jupyter": {
     "outputs_hidden": false,
     "source_hidden": false
    },
    "nteract": {
     "transient": {
      "deleting": false
     }
    },
    "slideshow": {
     "slide_type": ""
    },
    "tags": []
   },
   "outputs": [],
   "source": [
    "# Import whitelist and blacklist IPs    \n",
    "whitelist_ips = read_ip_file(\"whitelist.txt\")\n",
    "blacklist_ips = read_ip_file(\"blacklist.txt\")\n",
    "\n",
    "if DEBUG :\n",
    "    print(\"Whitelist IPs: \", whitelist_ips)\n",
    "    print(\"Blacklist IPs: \", blacklist_ips)\n",
    "    "
   ]
  },
  {
   "cell_type": "code",
   "execution_count": null,
   "id": "645da99b-b906-4065-802a-98d377dc2926",
   "metadata": {
    "editable": true,
    "slideshow": {
     "slide_type": ""
    },
    "tags": []
   },
   "outputs": [],
   "source": []
  },
  {
   "cell_type": "markdown",
   "id": "03b90c80-608f-4b55-b500-a1d0bc39c2c9",
   "metadata": {
    "editable": true,
    "nteract": {
     "transient": {
      "deleting": false
     }
    },
    "slideshow": {
     "slide_type": "slide"
    },
    "tags": []
   },
   "source": [
    "## Test it"
   ]
  },
  {
   "cell_type": "code",
   "execution_count": null,
   "id": "57a812e0-5a57-4ce7-9b8a-3e2b8a49eb3d",
   "metadata": {
    "editable": true,
    "slideshow": {
     "slide_type": ""
    },
    "tags": []
   },
   "outputs": [],
   "source": [
    "if not LIVE : # Run Tests\n",
    "    packet_count = defaultdict(int)\n",
    "    start_time = [time.time()]\n",
    "    blocked_ips = set()\n",
    "\n",
    "    ## Whitelist\n",
    "    assert is_allowed(src_ip=\"127.0.0.1\", dst_ip=\"127.0.0.1\", dport=666) == True\n",
    "\n",
    "    ## Blacklist\n",
    "    assert is_allowed(src_ip=\"198.51.100.255\") == False\n",
    "\n",
    "\n",
    "    ## Not on a list\n",
    "    assert is_allowed(src_ip=\"127.0.0.2\") == DEFAULTALLOW\n",
    "\n",
    "    ## Not on a list but about to DoS us\n",
    "    assert is_allowed(\"127.0.0.3\") == DEFAULTALLOW\n",
    "\n",
    "    # Making 100 requests really fast\n",
    "    for i in range(100):\n",
    "        is_allowed(src_ip=\"127.0.0.3\")\n",
    "    \n",
    "    # Has DoSed us\n",
    "    assert is_allowed(src_ip=\"127.0.0.3\") == False\n"
   ]
  },
  {
   "cell_type": "code",
   "execution_count": null,
   "id": "b3b47a4e-bd5f-4075-a291-0947af32156f",
   "metadata": {
    "editable": true,
    "slideshow": {
     "slide_type": ""
    },
    "tags": []
   },
   "outputs": [],
   "source": []
  },
  {
   "cell_type": "markdown",
   "id": "188a73f7-c5e8-4748-a0bd-887b914b9d8b",
   "metadata": {
    "editable": true,
    "nteract": {
     "transient": {
      "deleting": false
     }
    },
    "slideshow": {
     "slide_type": "slide"
    },
    "tags": []
   },
   "source": [
    "## Task : Add Port Blocking"
   ]
  },
  {
   "cell_type": "code",
   "execution_count": null,
   "id": "ebd8d82a-6bb7-4b0b-b33b-ecd78b52e376",
   "metadata": {
    "collapsed": false,
    "editable": true,
    "jupyter": {
     "outputs_hidden": false,
     "source_hidden": false
    },
    "nteract": {
     "transient": {
      "deleting": false
     }
    },
    "slideshow": {
     "slide_type": ""
    },
    "tags": []
   },
   "outputs": [],
   "source": [
    "def is_port_allowed(dport=None):\n",
    "    if dport in [22]:\n",
    "        return False\n",
    "    return DEFAULTALLOW\n",
    "\n",
    "if not LIVE : # Run Tests\n",
    "    packet_count = defaultdict(int)\n",
    "    start_time = [time.time()]\n",
    "    blocked_ips = set()\n",
    "\n",
    "    assert is_allowed(src_ip=\"127.0.0.1\", dst_ip=\"127.0.0.1\", dport=80) == True\n",
    "    assert is_allowed(src_ip=\"127.0.0.1\", dst_ip=\"127.0.0.1\", dport=22) == False\n",
    "    assert is_allowed(src_ip=\"127.0.0.1\", dst_ip=\"127.0.0.1\", dport=666) == DEFAULTALLOW\n"
   ]
  },
  {
   "cell_type": "markdown",
   "id": "d7863477-f44f-41e3-a952-61a246ffd9cc",
   "metadata": {
    "editable": true,
    "slideshow": {
     "slide_type": ""
    },
    "tags": []
   },
   "source": [
    "- Look at this article https://www.makeuseof.com/vulnerable-ports-check-when-pentesting/\n",
    "- Add tests for all the ports it says are a risk but we do want to run a webserver\n",
    "- Make your firewall block those ports"
   ]
  },
  {
   "cell_type": "markdown",
   "id": "5a282651-77d2-4d68-8544-013dbd4d8c49",
   "metadata": {
    "editable": true,
    "nteract": {
     "transient": {
      "deleting": false
     }
    },
    "slideshow": {
     "slide_type": "slide"
    },
    "tags": []
   },
   "source": [
    "## Task : Add Destination filtering"
   ]
  },
  {
   "cell_type": "code",
   "execution_count": null,
   "id": "1eac4aa2-14a4-4e41-aa1a-4684d4682d80",
   "metadata": {
    "collapsed": false,
    "editable": true,
    "jupyter": {
     "outputs_hidden": false,
     "source_hidden": false
    },
    "nteract": {
     "transient": {
      "deleting": false
     }
    },
    "slideshow": {
     "slide_type": ""
    },
    "tags": []
   },
   "outputs": [],
   "source": [
    "# Check if a packet is allowed to go to a destination machine\n",
    "def is_dst_ip_allowed(dst_ip=None):\n",
    "    \n",
    "\n",
    "    return DEFAULTALLOW\n",
    "\n",
    "if not LIVE : # Run Tests\n",
    "    packet_count = defaultdict(int)\n",
    "    start_time = [time.time()]\n",
    "    blocked_ips = set()\n",
    "\n",
    "    ## Whitelist\n",
    "    assert is_allowed(src_ip=\"127.0.0.1\", dst_ip=\"127.0.0.1\", dport=80) == True\n",
    "    assert is_allowed(src_ip=\"127.0.0.1\", dst_ip=\"8.8.8.8\", dport=80) == False\n",
    "    assert is_allowed(src_ip=\"127.0.0.1\", dst_ip=\"127.240.0.1\", dport=80) == DEFAULTALLOW\n",
    "\n"
   ]
  },
  {
   "cell_type": "code",
   "execution_count": null,
   "id": "2016196a-550c-4c15-9fb4-8befe520031a",
   "metadata": {
    "editable": true,
    "slideshow": {
     "slide_type": ""
    },
    "tags": []
   },
   "outputs": [],
   "source": []
  },
  {
   "cell_type": "markdown",
   "id": "0abbb4c9-cecf-4f6d-9887-28abb14033e1",
   "metadata": {
    "editable": true,
    "nteract": {
     "transient": {
      "deleting": false
     }
    },
    "slideshow": {
     "slide_type": "slide"
    },
    "tags": []
   },
   "source": [
    "## Testing for the scapy / Linux version"
   ]
  },
  {
   "cell_type": "code",
   "execution_count": null,
   "id": "d77f78e3-015f-4b25-80df-7ff1e47f3a7d",
   "metadata": {
    "collapsed": false,
    "jupyter": {
     "outputs_hidden": false,
     "source_hidden": false
    },
    "nteract": {
     "transient": {
      "deleting": false
     }
    }
   },
   "outputs": [],
   "source": [
    "if LIVE: # run the tests using the scapy wrappers\n",
    "    ## Whitelist\n",
    "    assert packet_callback(IP(src=\"127.0.0.1\", dst=\"127.0.0.1\")/TCP(dport=666)) == True\n",
    "\n",
    "    ## Blacklist\n",
    "    assert packet_callback(IP(src=\"198.51.100.255\", dst=\"127.0.0.1\")/TCP(dport=666)) == False\n",
    "\n",
    "\n",
    "    ## Not on a list\n",
    "    assert packet_callback(IP(src=\"127.0.0.2\", dst=\"127.0.0.1\")/TCP(dport=666)) == DEFAULTALLOW\n",
    "\n",
    "    ## Not on a list but about to DoS us\n",
    "    assert packet_callback(IP(src=\"127.0.1.3\", dst=\"127.0.0.1\")/TCP(dport=666)) == DEFAULTALLOW\n",
    "\n",
    "    # DoSing\n",
    "    for i in range(50):\n",
    "        packet_callback(IP(src=\"127.0.1.3\", dst=\"127.0.0.1\")/TCP(dport=666))\n",
    "        time.sleep(0.01)\n",
    "    \n",
    "    # Has DoSed us\n",
    "    assert packet_callback(IP(src=\"127.0.1.3\", dst=\"127.0.0.1\")/TCP(dport=666)) == False\n"
   ]
  },
  {
   "cell_type": "markdown",
   "id": "f288b357-ba5c-43c0-9f11-14fdf44166b1",
   "metadata": {
    "editable": true,
    "nteract": {
     "transient": {
      "deleting": false
     }
    },
    "slideshow": {
     "slide_type": "slide"
    },
    "tags": []
   },
   "source": [
    "### Show the Logs"
   ]
  },
  {
   "cell_type": "code",
   "execution_count": null,
   "id": "4db760e7-cb06-48d9-b471-6e00143fcece",
   "metadata": {
    "editable": true,
    "slideshow": {
     "slide_type": ""
    },
    "tags": []
   },
   "outputs": [],
   "source": [
    "with open(LOGFILE) as f:\n",
    "    print(f.read())"
   ]
  },
  {
   "cell_type": "code",
   "execution_count": null,
   "id": "3dc701e2-32be-48d7-ac0c-096479ea9bd6",
   "metadata": {
    "editable": true,
    "slideshow": {
     "slide_type": ""
    },
    "tags": []
   },
   "outputs": [],
   "source": []
  },
  {
   "cell_type": "markdown",
   "id": "f52b1284-cbfa-4148-8567-5c283a589f3c",
   "metadata": {
    "editable": true,
    "nteract": {
     "transient": {
      "deleting": false
     }
    },
    "slideshow": {
     "slide_type": "slide"
    },
    "tags": []
   },
   "source": [
    "## Make it really work\n",
    "\n",
    "You can use the \"Export As\" to get this as a python file.\n",
    "You need to :-\n",
    "- Delete the the mindmap\n",
    "- Delete any line starting including ```await```\n",
    "- The rest should work on a Linux Machine"
   ]
  },
  {
   "cell_type": "code",
   "execution_count": null,
   "id": "4b51a2b2-5de7-42ab-ba70-36259aaf9d55",
   "metadata": {},
   "outputs": [],
   "source": [
    "# This code will make the firewall actually function on a properly set up Linux machine\n",
    "if __name__ == \"__main__\" and LIVE:\n",
    "    packet_count = defaultdict(int)\n",
    "    start_time = [time.time()]\n",
    "    blocked_ips = set()\n",
    "    if os.geteuid() != 0:\n",
    "        print(\"This script requires root privileges.\")\n",
    "        sys.exit(1)\n",
    "    print(\"Monitoring network traffic...\")\n",
    "    sniff(filter=\"ip\", prn=packet_callback)\n",
    "\n"
   ]
  },
  {
   "cell_type": "markdown",
   "id": "7bc2fd60-eac3-42a9-a6c8-0ac9bae6087a",
   "metadata": {
    "editable": true,
    "nteract": {
     "transient": {
      "deleting": false
     }
    },
    "slideshow": {
     "slide_type": "slide"
    },
    "tags": []
   },
   "source": [
    "## What are the differences between what we have and a real one?\n",
    "\n",
    "- Rules Order\n",
    "- IP Ranges\n",
    "- Content Filters\n",
    "- ....."
   ]
  },
  {
   "cell_type": "markdown",
   "id": "1710c20b-5849-435f-9413-88536c72f95c",
   "metadata": {
    "nteract": {
     "transient": {
      "deleting": false
     }
    }
   },
   "source": [
    "## Save and turn in"
   ]
  }
 ],
 "metadata": {
  "kernel_info": {
   "name": "python"
  },
  "kernelspec": {
   "display_name": "Python 3 (ipykernel)",
   "language": "python",
   "name": "python3"
  },
  "language_info": {
   "codemirror_mode": {
    "name": "ipython",
    "version": 3
   },
   "file_extension": ".py",
   "mimetype": "text/x-python",
   "name": "python",
   "nbconvert_exporter": "python",
   "pygments_lexer": "ipython3",
   "version": "3.10.13"
  },
  "nteract": {
   "version": "nteract-front-end@1.0.0"
  }
 },
 "nbformat": 4,
 "nbformat_minor": 5
}
