{
  "cells": [
    {
      "cell_type": "markdown",
      "source": [
        "# Assignment : In Lesson : HT 1-3 Revision Notes\n",
        "\n",
        "- Open \"HT1-3 Revision.ipynb\"\n",
        "- **Trust** it \n",
        "- Hit **Continue** in the top left\n",
        "\n",
        "Press \"Shift + Enter\" to run each block (updating thing you've edited or changed)\n",
        "\n",
        "You will be pressing \"Shift + Enter\" a lot. There are blank blocks between slides that you you just need to \"Shift + Enter\" through"
      ],
      "metadata": {
        "tags": [],
        "editable": true,
        "slideshow": {
          "slide_type": ""
        }
      }
    },
    {
      "cell_type": "markdown",
      "source": [
        "## Setup"
      ],
      "metadata": {
        "nteract": {
          "transient": {
            "deleting": false
          }
        }
      }
    },
    {
      "cell_type": "code",
      "source": [
        "import micropip\n",
        "await micropip.install([\"pyoliteutils\"])"
      ],
      "outputs": [],
      "execution_count": 1,
      "metadata": {
        "jupyter": {
          "source_hidden": false,
          "outputs_hidden": false
        },
        "nteract": {
          "transient": {
            "deleting": false
          }
        }
      }
    },
    {
      "cell_type": "code",
      "source": [
        "# Mindmapping\n",
        "\n",
        "from pyoliteutils import *\n",
        "\n",
        "mermaid(\"\"\"\n",
        "mindmap\n",
        "  root(Computing Paper 1)\n",
        "  ::icon(fa fa-computer)\n",
        "    Networking\n",
        "    ::icon(fa fa-ethernet)\n",
        "        Types of Network\n",
        "        Topologies\n",
        "        Performance\n",
        "        Hardware\n",
        "        Client Server\n",
        "        Internet\n",
        "        Protcols & Layers\n",
        "    Cyber Security\n",
        "    ::icon(fa fa-laptop)\n",
        "        Threat\n",
        "        Vulnerabilibites\n",
        "            Identifiying\n",
        "            Preventing\n",
        "    Operating Systems\n",
        "    ::icon(fa fa-windows)\n",
        "        User interface\n",
        "        Memory management and multitasking\n",
        "        Peripheral management and drivers\n",
        "        User management\n",
        "        File management\n",
        "    Utility Software\n",
        "    ::icon(fafa-file-archive-o)\n",
        "        Defragmentation\n",
        "        Compression\t\n",
        "        Encryption\n",
        "        Backup\n",
        "    Software Licences etc.\n",
        "    ::icon(fa fa-creative-commons)\n",
        "        Open Source\n",
        "        Closed Source\n",
        "        Creative Commons\n",
        "        \n",
        "        Custom & Off-the-Shelf\n",
        "\"\"\")"
      ],
      "outputs": [
        {
          "output_type": "display_data",
          "data": {
            "text/html": "<img src=\"https://mermaid.ink/img/Cm1pbmRtYXAKICByb290KENvbXB1dGluZyBQYXBlciAxKQogIDo6aWNvbihmYSBmYS1jb21wdXRlcikKICAgIE5ldHdvcmtpbmcKICAgIDo6aWNvbihmYSBmYS1ldGhlcm5ldCkKICAgICAgICBUeXBlcyBvZiBOZXR3b3JrCiAgICAgICAgVG9wb2xvZ2llcwogICAgICAgIFBlcmZvcm1hbmNlCiAgICAgICAgSGFyZHdhcmUKICAgICAgICBDbGllbnQgU2VydmVyCiAgICAgICAgSW50ZXJuZXQKICAgICAgICBQcm90Y29scyAmIExheWVycwogICAgQ3liZXIgU2VjdXJpdHkKICAgIDo6aWNvbihmYSBmYS1sYXB0b3ApCiAgICAgICAgVGhyZWF0CiAgICAgICAgVnVsbmVyYWJpbGliaXRlcwogICAgICAgICAgICBJZGVudGlmaXlpbmcKICAgICAgICAgICAgUHJldmVudGluZwogICAgT3BlcmF0aW5nIFN5c3RlbXMKICAgIDo6aWNvbihmYSBmYS13aW5kb3dzKQogICAgICAgIFVzZXIgaW50ZXJmYWNlCiAgICAgICAgTWVtb3J5IG1hbmFnZW1lbnQgYW5kIG11bHRpdGFza2luZwogICAgICAgIFBlcmlwaGVyYWwgbWFuYWdlbWVudCBhbmQgZHJpdmVycwogICAgICAgIFVzZXIgbWFuYWdlbWVudAogICAgICAgIEZpbGUgbWFuYWdlbWVudAogICAgVXRpbGl0eSBTb2Z0d2FyZQogICAgOjppY29uKGZhZmEtZmlsZS1hcmNoaXZlLW8pCiAgICAgICAgRGVmcmFnbWVudGF0aW9uCiAgICAgICAgQ29tcHJlc3Npb24JCiAgICAgICAgRW5jcnlwdGlvbgogICAgICAgIEJhY2t1cAogICAgU29mdHdhcmUgTGljZW5jZXMgZXRjLgogICAgOjppY29uKGZhIGZhLWNyZWF0aXZlLWNvbW1vbnMpCiAgICAgICAgT3BlbiBTb3VyY2UKICAgICAgICBDbG9zZWQgU291cmNlCiAgICAgICAgQ3JlYXRpdmUgQ29tbW9ucwogICAgICAgIAogICAgICAgIEN1c3RvbSAmIE9mZi10aGUtU2hlbGYK\"/>",
            "text/plain": "<IPython.core.display.Image object>"
          },
          "metadata": {}
        }
      ],
      "execution_count": 23,
      "metadata": {
        "jupyter": {
          "source_hidden": false,
          "outputs_hidden": false
        },
        "nteract": {
          "transient": {
            "deleting": false
          }
        }
      }
    },
    {
      "cell_type": "markdown",
      "source": [
        "# Networking\n",
        "\n",
        "Double click here to add notes or in the mindmap below (Shift + Enter to rerender the block)\n",
        "\n",
        "## Types of Network\n",
        "\n",
        "\n",
        "## Topologies\n",
        "\n",
        "\n",
        "## Performance\n",
        "\n",
        "\n",
        "## Hardware\n",
        "\n",
        "\n",
        "## Client Server\n",
        "\n",
        "\n",
        "## Internet\n",
        "\n",
        "\n",
        "## Protcols & Layers\n",
        "\n"
      ],
      "metadata": {
        "tags": [],
        "editable": true,
        "slideshow": {
          "slide_type": "slide"
        }
      }
    },
    {
      "cell_type": "code",
      "source": [
        "mermaid(\"\"\"\n",
        "mindmap\n",
        "    root(Networking)\n",
        "    ::icon(fa fa-ethernet)\n",
        "        Types of Network\n",
        "        Topologies\n",
        "        Performance\n",
        "        Hardware\n",
        "        Client Server\n",
        "        Internet\n",
        "        Protcols & Layers\n",
        "\"\"\")"
      ],
      "outputs": [
        {
          "output_type": "display_data",
          "data": {
            "text/html": "<img src=\"https://mermaid.ink/img/Cm1pbmRtYXAKICAgIHJvb3QoTmV0d29ya2luZykKICAgIDo6aWNvbihmYSBmYS1ldGhlcm5ldCkKICAgICAgICBUeXBlcyBvZiBOZXR3b3JrCiAgICAgICAgVG9wb2xvZ2llcwogICAgICAgIFBlcmZvcm1hbmNlCiAgICAgICAgSGFyZHdhcmUKICAgICAgICBDbGllbnQgU2VydmVyCiAgICAgICAgSW50ZXJuZXQKICAgICAgICBQcm90Y29scyAmIExheWVycwo=\"/>",
            "text/plain": "<IPython.core.display.Image object>"
          },
          "metadata": {}
        }
      ],
      "execution_count": 24,
      "metadata": {
        "jupyter": {
          "source_hidden": false,
          "outputs_hidden": false
        },
        "nteract": {
          "transient": {
            "deleting": false
          }
        }
      }
    },
    {
      "cell_type": "markdown",
      "source": [
        "# Cyber Security\n",
        "\n",
        "## Threat\n",
        "\n",
        "\n",
        "## Vulnerabilibites\n",
        "\n",
        "\n",
        "### Indentifiying\n",
        "\n",
        "\n",
        "\n",
        "### Preventing\n"
      ],
      "metadata": {
        "tags": [],
        "editable": true,
        "slideshow": {
          "slide_type": "fragment"
        }
      }
    },
    {
      "cell_type": "code",
      "source": [
        "\n",
        "(\"\"\"\n",
        "mindmap\n",
        "  root(Cyber Security)\n",
        "    ::icon(fa fa-laptop)\n",
        "        Threats\n",
        "        Vulnerabilibites\n",
        "            Identifiying\n",
        "            Preventing\n",
        "            \n",
        "\"\"\")"
      ],
      "outputs": [
        {
          "output_type": "execute_result",
          "execution_count": 26,
          "data": {
            "text/plain": "'\\nmindmap\\n  root(Cyber Security)\\n    ::icon(fa fa-laptop)\\n        Threats\\n        Vulnerabilibites\\n            Identifiying\\n            Preventing\\n            \\n'"
          },
          "metadata": {}
        }
      ],
      "execution_count": 25,
      "metadata": {
        "jupyter": {
          "source_hidden": false,
          "outputs_hidden": false
        },
        "nteract": {
          "transient": {
            "deleting": false
          }
        }
      }
    },
    {
      "cell_type": "markdown",
      "source": [
        "Press \"Shift + Enter\" to process a box and move on to the next bit. "
      ],
      "metadata": {
        "nteract": {
          "transient": {
            "deleting": false
          }
        },
        "tags": [],
        "editable": true,
        "slideshow": {
          "slide_type": ""
        }
      }
    },
    {
      "cell_type": "markdown",
      "source": [
        "# Operating Systems\n",
        "   \n",
        "## User interface\n",
        "## Memory management and multitasking\n",
        "\n",
        "## Peripheral management and drivers\n",
        "\n",
        "\n",
        "## User management\n",
        "\n",
        "\n",
        "\n",
        "## File management\n",
        "\n"
      ],
      "metadata": {
        "nteract": {
          "transient": {
            "deleting": false
          }
        }
      }
    },
    {
      "cell_type": "code",
      "source": [
        "\n",
        "mermaid(\"\"\"\n",
        "mindmap\n",
        "  root(Operating Systems)\n",
        "    ::icon(fa fa-windows)\n",
        "        User interface\n",
        "        Memory management and multitasking\n",
        "        Peripheral management and drivers\n",
        "        User management\n",
        "        File management\n",
        "    \n",
        "\"\"\")"
      ],
      "outputs": [
        {
          "output_type": "display_data",
          "data": {
            "text/html": "<img src=\"https://mermaid.ink/img/Cm1pbmRtYXAKICByb290KE9wZXJhdGluZyBTeXN0ZW1zKQogICAgOjppY29uKGZhIGZhLXdpbmRvd3MpCiAgICAgICAgVXNlciBpbnRlcmZhY2UKICAgICAgICBNZW1vcnkgbWFuYWdlbWVudCBhbmQgbXVsdGl0YXNraW5nCiAgICAgICAgUGVyaXBoZXJhbCBtYW5hZ2VtZW50IGFuZCBkcml2ZXJzCiAgICAgICAgVXNlciBtYW5hZ2VtZW50CiAgICAgICAgRmlsZSBtYW5hZ2VtZW50CiAgICAK\"/>",
            "text/plain": "<IPython.core.display.Image object>"
          },
          "metadata": {}
        }
      ],
      "execution_count": 26,
      "metadata": {
        "jupyter": {
          "source_hidden": false,
          "outputs_hidden": false
        },
        "nteract": {
          "transient": {
            "deleting": false
          }
        }
      }
    },
    {
      "cell_type": "markdown",
      "source": [
        "# Utility Software\n",
        "    \n",
        "    \n",
        "## Defragmentation\n",
        "\n",
        "\n",
        "## Compression\t\n",
        "\n",
        "## Encryption\n",
        "\n",
        "\n",
        "## Backup\n"
      ],
      "metadata": {
        "nteract": {
          "transient": {
            "deleting": false
          }
        },
        "tags": [],
        "editable": true,
        "slideshow": {
          "slide_type": "slide"
        }
      }
    },
    {
      "cell_type": "code",
      "source": [
        "\n",
        "mermaid(\"\"\"\n",
        "mindmap\n",
        "    root(Utility Software)\n",
        "    ::icon(fafa-file-archive-o)\n",
        "        Defragmentation\n",
        "        Compression\t\n",
        "        Encryption\n",
        "        Backup\n",
        "    \n",
        "    \"\"\")"
      ],
      "outputs": [
        {
          "output_type": "display_data",
          "data": {
            "text/html": "<img src=\"https://mermaid.ink/img/Cm1pbmRtYXAKICAgIHJvb3QoVXRpbGl0eSBTb2Z0d2FyZSkKICAgIDo6aWNvbihmYWZhLWZpbGUtYXJjaGl2ZS1vKQogICAgICAgIERlZnJhZ21lbnRhdGlvbgogICAgICAgIENvbXByZXNzaW9uCQogICAgICAgIEVuY3J5cHRpb24KICAgICAgICBCYWNrdXAKICAgIAogICAg\"/>",
            "text/plain": "<IPython.core.display.Image object>"
          },
          "metadata": {}
        }
      ],
      "execution_count": 21,
      "metadata": {
        "trusted": true
      }
    },
    {
      "cell_type": "markdown",
      "source": [
        "# Software Licences etc.\n",
        "\n",
        "\n",
        "## Open Source\n",
        "\n",
        "\n",
        "## Closed Source\n",
        "\n",
        "\n",
        "## Creative Commons\n",
        "\n"
      ],
      "metadata": {
        "nteract": {
          "transient": {
            "deleting": false
          }
        }
      }
    },
    {
      "cell_type": "code",
      "source": [
        "mermaid(\"\"\"\n",
        "mindmap\n",
        "    root(Software Licences etc.)\n",
        "    ::icon(fa fa-creative-commons)\n",
        "        Open Source\n",
        "        Closed Source\n",
        "        Creative Commons\n",
        "        \n",
        "        Custom & Off-the-Shelf\n",
        "\"\"\")"
      ],
      "outputs": [
        {
          "output_type": "display_data",
          "data": {
            "text/html": "<img src=\"https://mermaid.ink/img/Cm1pbmRtYXAKICAgIHJvb3QoU29mdHdhcmUgTGljZW5jZXMgZXRjLikKICAgIDo6aWNvbihmYSBmYS1jcmVhdGl2ZS1jb21tb25zKQogICAgICAgIE9wZW4gU291cmNlCiAgICAgICAgQ2xvc2VkIFNvdXJjZQogICAgICAgIENyZWF0aXZlIENvbW1vbnMKICAgICAgICAKICAgICAgICBDdXN0b20gJiBPZmYtdGhlLVNoZWxmCg==\"/>",
            "text/plain": "<IPython.core.display.Image object>"
          },
          "metadata": {}
        }
      ],
      "execution_count": 22,
      "metadata": {
        "jupyter": {
          "source_hidden": false,
          "outputs_hidden": false
        },
        "nteract": {
          "transient": {
            "deleting": false
          }
        }
      }
    },
    {
      "cell_type": "markdown",
      "source": [
        "# Other Mermiad diagrams you might find useful\n",
        "\n",
        "[Mermaid Docs](https://mermaid.js.org/intro/getting-started.html)"
      ],
      "metadata": {
        "nteract": {
          "transient": {
            "deleting": false
          }
        }
      }
    },
    {
      "cell_type": "code",
      "source": [
        "mermaid(\"\"\"\n",
        "flowchart TD\n",
        "    A[Christmas] -->|Get money| B(Go shopping)\n",
        "    B --> C{Let me think}\n",
        "    C -->|One| D[Laptop]\n",
        "    C -->|Two| E[iPhone]\n",
        "    C -->|Three| F[fa:fa-car Car]\n",
        "\"\"\")"
      ],
      "outputs": [
        {
          "output_type": "display_data",
          "data": {
            "text/html": "<img src=\"https://mermaid.ink/img/CmZsb3djaGFydCBURAogICAgQVtDaHJpc3RtYXNdIC0tPnxHZXQgbW9uZXl8IEIoR28gc2hvcHBpbmcpCiAgICBCIC0tPiBDe0xldCBtZSB0aGlua30KICAgIEMgLS0+fE9uZXwgRFtMYXB0b3BdCiAgICBDIC0tPnxUd298IEVbaVBob25lXQogICAgQyAtLT58VGhyZWV8IEZbZmE6ZmEtY2FyIENhcl0K\"/>",
            "text/plain": "<IPython.core.display.Image object>"
          },
          "metadata": {}
        }
      ],
      "execution_count": 27,
      "metadata": {
        "jupyter": {
          "source_hidden": false,
          "outputs_hidden": false
        },
        "nteract": {
          "transient": {
            "deleting": false
          }
        }
      }
    },
    {
      "cell_type": "code",
      "source": [
        "mermaid(\"\"\"\n",
        "quadrantChart\n",
        "    title Reach and engagement of campaigns\n",
        "    x-axis Low Reach --> High Reach\n",
        "    y-axis Low Engagement --> High Engagement\n",
        "    quadrant-1 We should expand\n",
        "    quadrant-2 Need to promote\n",
        "    quadrant-3 Re-evaluate\n",
        "    quadrant-4 May be improved\n",
        "    Campaign A: [0.3, 0.6]\n",
        "    Campaign B: [0.45, 0.23]\n",
        "    Campaign C: [0.57, 0.69]\n",
        "    Campaign D: [0.78, 0.34]\n",
        "    Campaign E: [0.40, 0.34]\n",
        "    Campaign F: [0.35, 0.78]\n",
        "\"\"\")"
      ],
      "outputs": [
        {
          "output_type": "display_data",
          "data": {
            "text/html": "<img src=\"https://mermaid.ink/img/CnF1YWRyYW50Q2hhcnQKICAgIHRpdGxlIFJlYWNoIGFuZCBlbmdhZ2VtZW50IG9mIGNhbXBhaWducwogICAgeC1heGlzIExvdyBSZWFjaCAtLT4gSGlnaCBSZWFjaAogICAgeS1heGlzIExvdyBFbmdhZ2VtZW50IC0tPiBIaWdoIEVuZ2FnZW1lbnQKICAgIHF1YWRyYW50LTEgV2Ugc2hvdWxkIGV4cGFuZAogICAgcXVhZHJhbnQtMiBOZWVkIHRvIHByb21vdGUKICAgIHF1YWRyYW50LTMgUmUtZXZhbHVhdGUKICAgIHF1YWRyYW50LTQgTWF5IGJlIGltcHJvdmVkCiAgICBDYW1wYWlnbiBBOiBbMC4zLCAwLjZdCiAgICBDYW1wYWlnbiBCOiBbMC40NSwgMC4yM10KICAgIENhbXBhaWduIEM6IFswLjU3LCAwLjY5XQogICAgQ2FtcGFpZ24gRDogWzAuNzgsIDAuMzRdCiAgICBDYW1wYWlnbiBFOiBbMC40MCwgMC4zNF0KICAgIENhbXBhaWduIEY6IFswLjM1LCAwLjc4XQo=\"/>",
            "text/plain": "<IPython.core.display.Image object>"
          },
          "metadata": {}
        }
      ],
      "execution_count": 29,
      "metadata": {
        "jupyter": {
          "source_hidden": false,
          "outputs_hidden": false
        },
        "nteract": {
          "transient": {
            "deleting": false
          }
        }
      }
    },
    {
      "cell_type": "code",
      "source": [
        "mermaid(\"\"\"\n",
        "pie title Pets adopted by volunteers\n",
        "    \"Dogs\" : 386\n",
        "    \"Cats\" : 85\n",
        "    \"Rats\" : 15\n",
        "\"\"\")"
      ],
      "outputs": [
        {
          "output_type": "display_data",
          "data": {
            "text/html": "<img src=\"https://mermaid.ink/img/CnBpZSB0aXRsZSBQZXRzIGFkb3B0ZWQgYnkgdm9sdW50ZWVycwogICAgIkRvZ3MiIDogMzg2CiAgICAiQ2F0cyIgOiA4NQogICAgIlJhdHMiIDogMTUK\"/>",
            "text/plain": "<IPython.core.display.Image object>"
          },
          "metadata": {}
        }
      ],
      "execution_count": 28,
      "metadata": {
        "jupyter": {
          "source_hidden": false,
          "outputs_hidden": false
        },
        "nteract": {
          "transient": {
            "deleting": false
          }
        }
      }
    },
    {
      "cell_type": "code",
      "source": [],
      "outputs": [],
      "execution_count": null,
      "metadata": {
        "jupyter": {
          "source_hidden": false,
          "outputs_hidden": false
        },
        "nteract": {
          "transient": {
            "deleting": false
          }
        }
      }
    }
  ],
  "metadata": {
    "kernelspec": {
      "name": "python",
      "language": "python",
      "display_name": "Pyolite (preview)"
    },
    "language_info": {
      "codemirror_mode": {
        "name": "python",
        "version": 3
      },
      "file_extension": ".py",
      "mimetype": "text/x-python",
      "name": "python",
      "nbconvert_exporter": "python",
      "pygments_lexer": "ipython3",
      "version": "3.8"
    },
    "kernel_info": {
      "name": "python"
    },
    "nteract": {
      "version": "nteract-front-end@1.0.0"
    }
  },
  "nbformat": 4,
  "nbformat_minor": 4
}