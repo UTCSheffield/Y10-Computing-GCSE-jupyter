{
  "metadata": {
    "kernelspec": {
      "name": "python",
      "display_name": "Python (Pyodide)",
      "language": "python"
    },
    "language_info": {
      "codemirror_mode": {
        "name": "python",
        "version": 3
      },
      "file_extension": ".py",
      "mimetype": "text/x-python",
      "name": "python",
      "nbconvert_exporter": "python",
      "pygments_lexer": "ipython3",
      "version": "3.8"
    },
    "kernel_info": {
      "name": "python"
    },
    "nteract": {
      "version": "nteract-front-end@1.0.0"
    }
  },
  "nbformat_minor": 4,
  "nbformat": 4,
  "cells": [
    {
      "cell_type": "markdown",
      "source": "# Jupyter Notebook\n\n## Assignment : In Lesson : Utility software 2\n\nOpen \"Utility Software Lesson 2.ipynb\" and give it permission\n\nPress \"Shift + Enter\" to run each block (updating thing you've edited or changed)\n",
      "metadata": {
        "tags": [],
        "editable": true,
        "slideshow": {
          "slide_type": ""
        }
      }
    },
    {
      "cell_type": "markdown",
      "source": "# Utility Software : Compression\n\nUtility Software that compresses is almost always **Lossless** as you need to get the files back exactly like there orginal.",
      "metadata": {
        "tags": [],
        "editable": true,
        "slideshow": {
          "slide_type": "slide"
        }
      }
    },
    {
      "cell_type": "markdown",
      "source": "## When is lossy compression useful?",
      "metadata": {
        "tags": [],
        "editable": true,
        "slideshow": {
          "slide_type": "fragment"
        }
      }
    },
    {
      "cell_type": "markdown",
      "source": "Double click here to edit",
      "metadata": {
        "nteract": {
          "transient": {
            "deleting": false
          }
        },
        "tags": [],
        "editable": true,
        "slideshow": {
          "slide_type": ""
        }
      }
    },
    {
      "cell_type": "markdown",
      "source": "Press \"Shift + Enter\" to process a box and move on to the next bit. ",
      "metadata": {
        "nteract": {
          "transient": {
            "deleting": false
          }
        },
        "tags": [],
        "editable": true,
        "slideshow": {
          "slide_type": ""
        }
      }
    },
    {
      "cell_type": "markdown",
      "source": "## Set up\n\nUse \"Shift + Enter\" to run the next 2 blocks, this will get everything we need set up.\n",
      "metadata": {
        "nteract": {
          "transient": {
            "deleting": false
          }
        },
        "tags": [],
        "editable": true,
        "slideshow": {
          "slide_type": "slide"
        }
      }
    },
    {
      "cell_type": "code",
      "source": "# Install 2 python libraries\nimport micropip\nawait micropip.install([\"python-rle\", \"pycountry\"]) # Install required libraries",
      "metadata": {
        "trusted": true
      },
      "outputs": [],
      "execution_count": null
    },
    {
      "cell_type": "code",
      "source": "# Import libraries\nimport rle\nfrom js import fetch\nimport json\nfrom PIL import Image, ImageDraw\nimport numpy as np\nimport pycountry\nimport sys\nfrom IPython.display import Image as ImageDisplay\n\nclass NpEncoder(json.JSONEncoder):\n    \"\"\"Work around for numpy to JSON\"\"\"\n    def default(self, obj):\n        if isinstance(obj, np.bool_):\n            return bool(obj)\n        if isinstance(obj, (np.floating, np.complexfloating)):\n            return float(obj)\n        if isinstance(obj, np.integer):\n            return int(obj)\n        if isinstance(obj, np.ndarray):\n            return obj.tolist()\n        if isinstance(obj, np.string_):\n            return str(obj)\n        return super(NpEncoder, self).default(obj)\n         \nasync def load_file_into_in_mem_filesystem(url, fn=None):\n    \"\"\"Load a file from a URL into an in-memory filesystem.\"\"\"\n    # Create a filename if required\n    fn = fn if fn is not None else url.split(\"/\")[-1]\n    # Fetch file from URL\n    res = await fetch(url)\n    # Buffer it\n    buffer = await res.arrayBuffer()\n    # Write file to in-memory file system\n    open(fn, \"wb\").write(bytes(buffer.valueOf().to_py()))\n \n    return fn\n\n\nasync def fetch_flag(text):\n    \"\"\"Get a flag from the web by eith 2 letter code or searching for that code using the text \"\"\"\n    if (len(text) > 2):\n        code = pycountry.countries.search_fuzzy(text)[0].alpha_2\n    code = code.lower()\n    url = \"https://raw.githubusercontent.com/hampusborgos/country-flags/main/png100px/\"+code+\".png\"\n    print(url)\n    flag_file = await load_file_into_in_mem_filesystem(url)\n    return flag_file\n\n\ndef compress_VertRleOfHoriRle(dat):\n    \"\"\"Compress dat by doing a run length encoding up the column after they been RLEd along the rows already\n    Return string\"\"\"\n    lines = []\n    for x in dat:\n        x_rle = rle.encode(x.tolist())\n        lines.append(x_rle)\n    out = rle.encode(lines)\n    return json.dumps(out, cls=NpEncoder, separators=(',', ':'))\n\ndef decompress_VertRleOfHoriRle(text):\n    \"\"\"Decode the RLE Vertically first, the horizontally creating a grid of pixels\"\"\"\n    comp = json.loads(text)\n    out = [rle.decode(x[0], x[1]) for x in rle.decode(comp[0], comp[1])]\n    return out\n\ndef compress_HoriRleOfVertRle(dat):\n    \"\"\"Compress dat by doing a run length encoding along the row after they been RLEd up the columns already\n    Return String\"\"\"\n    cols = []\n    for col in dat.T:\n        cols.append(rle.encode(col.tolist()))\n    out = rle.encode(cols)\n    return json.dumps(out, cls=NpEncoder, separators=(',', ':'))\n\ndef decompress_HoriRleOfVertRle(text):\n    \"\"\"Decode the RLE Horizontally first, placing it in a grid\"\"\"\n    comp = json.loads(text)\n    dat = []\n    cols = rle.decode(comp[0], comp[1])\n    for x in range(len(cols)):\n        col = rle.decode(cols[x][0], cols[x][1])\n        for y in range(len(col)):\n            if x == 0:\n                dat.append([])\n            dat[y].append(col[y])\n    return  dat\n\ndef createImage(data, palette):\n    image = Image.new(\"P\", (len(data[0]), len(data)))\n    image.putpalette(palette)\n    for x in range(image.width):\n        for y in range(image.height):\n            image.putpixel((x,y), data[y][x])\n    return image\n\n# rle-encode.py\n\ndef rle_encode(data):\n    encoding = ''\n    prev_char = ''\n    count = 1\n\n    if not data: return ''\n\n    for char in data:\n        # If the prev and current characters\n        # don't match...\n        if char != prev_char:\n            # ...then add the count and character\n            # to our encoding\n            if prev_char:\n                encoding += str(count) + prev_char\n            count = 1\n            prev_char = char\n        else:\n            # Or increment our counter\n            # if the characters do match\n            count += 1\n    else:\n        # Finish off the encoding\n        encoding += str(count) + prev_char\n        return encoding\n\n# rle-decode.py\n\ndef rle_decode(data):\n    decode = ''\n    count = ''\n    for char in data:\n        # If the character is numerical...\n        if char.isdigit():\n            # ...append it to our count\n            count += char\n        else:\n            # Otherwise we've seen a non-numerical\n            # character and need to expand it for\n            # the decoding\n            decode += char * int(count)\n            count = ''\n    return decode\n\ndef rle_results(plain_text): \n    encoded = rle_encode(plain_text)\n    decoded = rle_decode(encoded)\n    print(\"Original =\", plain_text, \"Orginal Length\", len(plain_text), \"bytes (assuming ASCII)\")\n    print(\"Encoded  =\", encoded, \"Encoded Length\", len(encoded), \"bytes (assuming ASCII)\")\n    print(\"Decoded  =\", decoded)\n\nasync def flags_rle_results(country_name, debug = False):\n\n    file_name = await fetch_flag(country_name)\n    print(\"country_name= \", country_name, \"file_name =\", file_name)\n\n    im = Image.open(file_name)\n    im2 = im.quantize(dither = Image.Dither.NONE)\n    \n    #display(im2) # Show the image\n    palette = im2.getpalette() \n    dat = np.asarray(im2)\n    print(\"Size of original image approx\", (im2.width * im2.height) + len(palette), \"bytes\") \n\n    HVtext = compress_HoriRleOfVertRle(dat)\n    print(\"HoriRleOfVertRle\", \"length =\", len(HVtext), \"bytes\")\n    if debug:\n        print( \"HVtext =\", HVtext)\n    uncompressed = decompress_HoriRleOfVertRle(HVtext)\n    #im3 = createImage(decompress_HoriRleOfVertRle(HVtext), im2.getpalette())\n    #display(im3)\n\n    VHtext = compress_VertRleOfHoriRle(dat)\n    print(\"HoriRleOfVertRle\", \"length =\", len(VHtext), \"bytes\")\n    if debug:\n        print( \"VHtext =\", VHtext)\n    #im4 = createImage(decompress_VertRleOfHoriRle(VHtext), im2.getpalette())\n    return im2, file_name\n    ",
      "metadata": {
        "trusted": true,
        "tags": [],
        "editable": true,
        "slideshow": {
          "slide_type": ""
        }
      },
      "outputs": [],
      "execution_count": null
    },
    {
      "cell_type": "markdown",
      "source": "## Simple Compression : Run Length Encoding \n\nOn paper \nSteps :\n1. Get Text\n2. Start on left\n3. Get next letter\n4. How many of this letter next are next to each other (the run)?\n5. Write down the Run Length and the Letter\n6. Go To 3\n\n```plain_text = \"ABBCCCDDDDEEEEEFFFFFFGGGGGGG\"```",
      "metadata": {
        "nteract": {
          "transient": {
            "deleting": false
          }
        },
        "tags": [],
        "editable": true,
        "slideshow": {
          "slide_type": "slide"
        }
      }
    },
    {
      "cell_type": "markdown",
      "source": "### Task : \n\n1. Follow the instructions \n2. Double click the code below and fill in ```hand_encoded=\"1A\"``` The first run is done for you.\n3. Once you have it correct \"Shift + Enter\" will run it",
      "metadata": {
        "tags": [],
        "editable": true,
        "slideshow": {
          "slide_type": "slide"
        }
      }
    },
    {
      "cell_type": "code",
      "source": "plain_text = \"ABBCCCDDDDEEEEEFFFFFFGGGGGGG\"\n\n# TODO : Complete this Run Length encoded string by hand\nhand_encoded = \"1A\"\n\nencoded = rle_encode(plain_text)\nassert hand_encoded == encoded, \"That's not quite right\" \nencoded",
      "metadata": {
        "jupyter": {
          "source_hidden": false,
          "outputs_hidden": false
        },
        "nteract": {
          "transient": {
            "deleting": false
          }
        },
        "collapsed": false,
        "trusted": true
      },
      "outputs": [],
      "execution_count": null
    },
    {
      "cell_type": "code",
      "source": "",
      "metadata": {
        "jupyter": {
          "source_hidden": false,
          "outputs_hidden": false
        },
        "nteract": {
          "transient": {
            "deleting": false
          }
        },
        "collapsed": false,
        "trusted": true
      },
      "outputs": [],
      "execution_count": null
    },
    {
      "cell_type": "markdown",
      "source": "#### Evidence",
      "metadata": {
        "nteract": {
          "transient": {
            "deleting": false
          }
        },
        "tags": [],
        "editable": true,
        "slideshow": {
          "slide_type": "slide"
        }
      }
    },
    {
      "cell_type": "code",
      "source": "rle_decode(encoded)",
      "metadata": {
        "jupyter": {
          "source_hidden": false,
          "outputs_hidden": false
        },
        "nteract": {
          "transient": {
            "deleting": false
          }
        },
        "collapsed": false,
        "trusted": true
      },
      "outputs": [],
      "execution_count": null
    },
    {
      "cell_type": "code",
      "source": "",
      "metadata": {
        "trusted": true
      },
      "outputs": [],
      "execution_count": null
    },
    {
      "cell_type": "markdown",
      "source": "#### Is it any good?",
      "metadata": {
        "nteract": {
          "transient": {
            "deleting": false
          }
        },
        "tags": [],
        "editable": true,
        "slideshow": {
          "slide_type": "slide"
        }
      }
    },
    {
      "cell_type": "code",
      "source": "plain_text = \"ABBCCCDDDEEEEFFFFFGGGGGG\"\nrle_results(plain_text)\n",
      "metadata": {
        "jupyter": {
          "source_hidden": false,
          "outputs_hidden": false
        },
        "nteract": {
          "transient": {
            "deleting": false
          }
        },
        "collapsed": false,
        "trusted": true
      },
      "outputs": [],
      "execution_count": null
    },
    {
      "cell_type": "code",
      "source": "",
      "metadata": {
        "trusted": true
      },
      "outputs": [],
      "execution_count": null
    },
    {
      "cell_type": "code",
      "source": "plain_text = \"Our Deepest Fear Is Not That We Are Inadequate. Our Deepest Fear Is That We Are Powerful Beyond Measure\"\nrle_results(plain_text)",
      "metadata": {
        "trusted": true,
        "tags": [],
        "editable": true,
        "slideshow": {
          "slide_type": "slide"
        }
      },
      "outputs": [],
      "execution_count": null
    },
    {
      "cell_type": "code",
      "source": "",
      "metadata": {
        "trusted": true
      },
      "outputs": [],
      "execution_count": null
    },
    {
      "cell_type": "markdown",
      "source": "### Is Run Length Encoding Good for Text?\n\nDouble Click and answer here.",
      "metadata": {
        "nteract": {
          "transient": {
            "deleting": false
          }
        },
        "tags": [],
        "editable": true,
        "slideshow": {
          "slide_type": "slide"
        }
      }
    },
    {
      "cell_type": "markdown",
      "source": "## Loading an Image",
      "metadata": {
        "nteract": {
          "transient": {
            "deleting": false
          }
        },
        "tags": [],
        "editable": true,
        "slideshow": {
          "slide_type": "slide"
        }
      }
    },
    {
      "cell_type": "code",
      "source": "country_name = 'Germany'\n\nfile_name = await fetch_flag(country_name)\nprint(\"file_name =\", file_name)\n\nim = Image.open(file_name)\nim2 = im.quantize(dither = Image.Dither.NONE)\n\nawait ImageDisplay(im2, filename=file_name) \n",
      "metadata": {
        "jupyter": {
          "source_hidden": false,
          "outputs_hidden": false
        },
        "nteract": {
          "transient": {
            "deleting": false
          }
        },
        "collapsed": false,
        "trusted": true
      },
      "outputs": [],
      "execution_count": null
    },
    {
      "cell_type": "code",
      "source": " ",
      "metadata": {
        "jupyter": {
          "source_hidden": false,
          "outputs_hidden": false
        },
        "nteract": {
          "transient": {
            "deleting": false
          }
        },
        "collapsed": false,
        "trusted": true
      },
      "outputs": [],
      "execution_count": null
    },
    {
      "cell_type": "markdown",
      "source": "## Looking at the data\n\n",
      "metadata": {
        "nteract": {
          "transient": {
            "deleting": false
          }
        },
        "tags": [],
        "editable": true,
        "slideshow": {
          "slide_type": "slide"
        }
      }
    },
    {
      "cell_type": "markdown",
      "source": "### Paint by Numbers",
      "metadata": {
        "nteract": {
          "transient": {
            "deleting": false
          }
        }
      }
    },
    {
      "cell_type": "code",
      "source": "palette = im2.getpalette() \nprint(\"Palette\", palette[:60])\nfor colour in range(3):\n    print(\"Colour\", colour, \"Red =\",palette[(colour*3)], \"Green =\",palette[(colour*3)+1], \"Blue =\",palette[(colour*3)+2])\n\ndat = np.asarray(im2)\n\nprint(\"The colours in the top row\", dat[0]) # Show the data of the bottom row",
      "metadata": {
        "jupyter": {
          "source_hidden": false,
          "outputs_hidden": false
        },
        "nteract": {
          "transient": {
            "deleting": false
          }
        },
        "collapsed": false,
        "trusted": true
      },
      "outputs": [],
      "execution_count": null
    },
    {
      "cell_type": "code",
      "source": "#np.set_printoptions(threshold=sys.maxsize) # Print every bit\n#dat",
      "metadata": {
        "jupyter": {
          "source_hidden": false,
          "outputs_hidden": false
        },
        "nteract": {
          "transient": {
            "deleting": false
          }
        },
        "collapsed": false,
        "trusted": true
      },
      "outputs": [],
      "execution_count": null
    },
    {
      "cell_type": "markdown",
      "source": "## Compressing an Image : RLE H of V\n\nRun Length encoding each Column upwards and then RLE those columns again sidewards ",
      "metadata": {
        "nteract": {
          "transient": {
            "deleting": false
          }
        },
        "tags": [],
        "editable": true,
        "slideshow": {
          "slide_type": "slide"
        }
      }
    },
    {
      "cell_type": "code",
      "source": "print(\"Size of original image approx\", (im2.width * im2.height) + len(palette), \"bytes\") \n\nHVtext = compress_HoriRleOfVertRle(dat)\nprint(\"HoriRleOfVertRle\", \"length =\", len(HVtext), \"bytes\")\nprint( \"HVtext =\", HVtext)\nuncompressed = decompress_HoriRleOfVertRle(HVtext)\nim3 = createImage(decompress_HoriRleOfVertRle(HVtext), im2.getpalette())\n\nImageDisplay(im3, filename=file_name) \n",
      "metadata": {
        "jupyter": {
          "source_hidden": false,
          "outputs_hidden": false
        },
        "nteract": {
          "transient": {
            "deleting": false
          }
        },
        "collapsed": false,
        "trusted": true
      },
      "outputs": [],
      "execution_count": null
    },
    {
      "cell_type": "markdown",
      "source": "- This is compressing to a string representation of Arrays (JSON) (we could use binary to make it even small).\n- In the case of Germany  \n    - HVtext = [[[[2,1,0],[20,20,20]]],[**100**]] a 100 columns of ..\n        - HVtext = [[[[**2**,1,0],[**20**,20,20]]],[100]] 20 pixels of palette colour 2 [0,0,0] Black\n        - HVtext = [[[[2,**1**,0],[20,**20**,20]]],[100]] 20 pixels of palette colour 1 [0,221,0] Red\n        - HVtext = [[[[2,1,**0**],[20,20,**20**]]],[100]] 20 pixels of palette colour 1 [255, 206, 0] Yellow\n",
      "metadata": {
        "nteract": {
          "transient": {
            "deleting": false
          }
        }
      }
    },
    {
      "cell_type": "markdown",
      "source": "## Compressing an Image : RLE V of H\n\nRun Length encoding each row left to right then RLE those together upwards ",
      "metadata": {
        "nteract": {
          "transient": {
            "deleting": false
          }
        },
        "tags": [],
        "editable": true,
        "slideshow": {
          "slide_type": "slide"
        }
      }
    },
    {
      "cell_type": "code",
      "source": "VHtext = compress_VertRleOfHoriRle(dat)\nprint(\"HoriRleOfVertRle\", \"length =\", len(VHtext), \"bytes\")\nprint( \"VHtext =\", VHtext)\nim4 = createImage(decompress_VertRleOfHoriRle(VHtext), im2.getpalette())\n\nImageDisplay(im3, filename=file_name) \n",
      "metadata": {
        "jupyter": {
          "source_hidden": false,
          "outputs_hidden": false
        },
        "nteract": {
          "transient": {
            "deleting": false
          }
        },
        "collapsed": false,
        "trusted": true
      },
      "outputs": [],
      "execution_count": null
    },
    {
      "cell_type": "markdown",
      "source": "- In the case of Germany  \n    - HVtext = [[**[[2],[100]]**,[[1],[100]],[[0],[100]]],[**20**,20,20]] 20 rows of 100 pixels of palette colour 2 [0,0,0] Black\n    - HVtext = [[[[2],[100]],**[[1],[100]]**,[[0],[100]]],[20,**20**,20]] 20 rows of 100 pixels of palette colour 1 [0,221,0] Red\n    - HVtext = [[[[2],[100]],[[1],[100]],**[[0],[100]]**],[20,20,**20**]] 20 rows of 100 pixels of palette colour 0 [255, 206, 0] Yellow",
      "metadata": {
        "nteract": {
          "transient": {
            "deleting": false
          }
        }
      }
    },
    {
      "cell_type": "markdown",
      "source": "### Remix Germany\n\n\nChange the flag around maybe change the size (it might crash don't worry.)",
      "metadata": {
        "nteract": {
          "transient": {
            "deleting": false
          }
        },
        "tags": [],
        "editable": true,
        "slideshow": {
          "slide_type": "slide"
        }
      }
    },
    {
      "cell_type": "code",
      "source": "palette = [255, 206, 0, 221, 0, 0, 0, 0, 255]\nremix = \"[[[[2,1,0],[20,40,20]]],[100]]\"\nim_remix = createImage(decompress_HoriRleOfVertRle(remix), palette)\nfile_name = \"im_remix.png\"\nim_remix.save(file_name)\nImageDisplay(im_remix, filename=file_name)",
      "metadata": {
        "jupyter": {
          "source_hidden": false,
          "outputs_hidden": false
        },
        "nteract": {
          "transient": {
            "deleting": false
          }
        },
        "collapsed": false,
        "trusted": true,
        "tags": [],
        "editable": true,
        "slideshow": {
          "slide_type": ""
        }
      },
      "outputs": [],
      "execution_count": null
    },
    {
      "cell_type": "code",
      "source": "",
      "metadata": {
        "trusted": true
      },
      "outputs": [],
      "execution_count": null
    },
    {
      "cell_type": "markdown",
      "source": "### Is Run Length Encoding Good for Images ?",
      "metadata": {
        "nteract": {
          "transient": {
            "deleting": false
          }
        },
        "tags": [],
        "editable": true,
        "slideshow": {
          "slide_type": "slide"
        }
      }
    },
    {
      "cell_type": "code",
      "source": "im, file_name = await flags_rle_results(country_name = 'France')\nImageDisplay(im, filename=file_name)",
      "metadata": {
        "jupyter": {
          "source_hidden": false,
          "outputs_hidden": false
        },
        "nteract": {
          "transient": {
            "deleting": false
          }
        },
        "collapsed": false,
        "trusted": true,
        "tags": [],
        "editable": true,
        "slideshow": {
          "slide_type": ""
        }
      },
      "outputs": [],
      "execution_count": null
    },
    {
      "cell_type": "code",
      "source": "",
      "metadata": {
        "trusted": true,
        "tags": [],
        "editable": true,
        "slideshow": {
          "slide_type": ""
        }
      },
      "outputs": [],
      "execution_count": null
    },
    {
      "cell_type": "code",
      "source": "im, file_name = await flags_rle_results(country_name = 'Mexico')\nImageDisplay(im, filename=file_name)",
      "metadata": {
        "trusted": true,
        "tags": [],
        "editable": true,
        "slideshow": {
          "slide_type": "slide"
        }
      },
      "outputs": [],
      "execution_count": null
    },
    {
      "cell_type": "code",
      "source": "",
      "metadata": {
        "trusted": true,
        "tags": [],
        "editable": true,
        "slideshow": {
          "slide_type": ""
        }
      },
      "outputs": [],
      "execution_count": null
    },
    {
      "cell_type": "code",
      "source": "im, file_name = await flags_rle_results(country_name = 'Iran')\nImageDisplay(im, filename=file_name)",
      "metadata": {
        "trusted": true,
        "tags": [],
        "editable": true,
        "slideshow": {
          "slide_type": "slide"
        }
      },
      "outputs": [],
      "execution_count": null
    },
    {
      "cell_type": "code",
      "source": "",
      "metadata": {
        "trusted": true,
        "tags": [],
        "editable": true,
        "slideshow": {
          "slide_type": ""
        }
      },
      "outputs": [],
      "execution_count": null
    },
    {
      "cell_type": "code",
      "source": "im, file_name = await flags_rle_results(country_name = 'Brazil')\nImageDisplay(im, filename=file_name)",
      "metadata": {
        "trusted": true,
        "tags": [],
        "editable": true,
        "slideshow": {
          "slide_type": "subslide"
        }
      },
      "outputs": [],
      "execution_count": null
    },
    {
      "cell_type": "code",
      "source": "im, file_name = await flags_rle_results(country_name = 'Britain')\nImageDisplay(im, filename=file_name)",
      "metadata": {
        "trusted": true,
        "tags": [],
        "editable": true,
        "slideshow": {
          "slide_type": "slide"
        }
      },
      "outputs": [],
      "execution_count": null
    },
    {
      "cell_type": "code",
      "source": "",
      "metadata": {
        "trusted": true,
        "tags": [],
        "editable": true,
        "slideshow": {
          "slide_type": ""
        }
      },
      "outputs": [],
      "execution_count": null
    },
    {
      "cell_type": "code",
      "source": "im, file_name = await flags_rle_results(country_name = 'Afghanistan')\nImageDisplay(im, filename=file_name)",
      "metadata": {
        "trusted": true,
        "tags": [],
        "editable": true,
        "slideshow": {
          "slide_type": "slide"
        }
      },
      "outputs": [],
      "execution_count": null
    },
    {
      "cell_type": "code",
      "source": "",
      "metadata": {
        "trusted": true,
        "tags": [],
        "editable": true,
        "slideshow": {
          "slide_type": ""
        }
      },
      "outputs": [],
      "execution_count": null
    },
    {
      "cell_type": "code",
      "source": "im, file_name = await flags_rle_results(country_name = 'Pitcairn')\nImageDisplay(im, filename=file_name)",
      "metadata": {
        "trusted": true,
        "tags": [],
        "editable": true,
        "slideshow": {
          "slide_type": "slide"
        }
      },
      "outputs": [],
      "execution_count": null
    },
    {
      "cell_type": "code",
      "source": "",
      "metadata": {
        "trusted": true,
        "tags": [],
        "editable": true,
        "slideshow": {
          "slide_type": ""
        }
      },
      "outputs": [],
      "execution_count": null
    },
    {
      "cell_type": "markdown",
      "source": "### Is Run Length Encoding Good for Images ?\n\nDouble Click and answer here.\n",
      "metadata": {
        "nteract": {
          "transient": {
            "deleting": false
          }
        },
        "tags": [],
        "editable": true,
        "slideshow": {
          "slide_type": "slide"
        }
      }
    },
    {
      "cell_type": "markdown",
      "source": "#### Explain any exceptions to that.\n\nDouble Click and answer here.\n",
      "metadata": {
        "nteract": {
          "transient": {
            "deleting": false
          }
        },
        "tags": [],
        "editable": true,
        "slideshow": {
          "slide_type": ""
        }
      }
    },
    {
      "cell_type": "code",
      "source": "",
      "metadata": {
        "trusted": true,
        "tags": [],
        "editable": true,
        "slideshow": {
          "slide_type": ""
        }
      },
      "outputs": [],
      "execution_count": null
    },
    {
      "cell_type": "markdown",
      "source": "## Utility Software : Compression\n\n- These examples are all in code working on small bits of data.\n- There are loads of other types of compression suitable to other type of data (Text etc.)\n- Utility Software will compress and decompress whole files / folders \n",
      "metadata": {
        "tags": [],
        "editable": true,
        "slideshow": {
          "slide_type": "slide"
        }
      }
    },
    {
      "cell_type": "markdown",
      "source": "## Utility Software : Compression : Examples\n\nList as many Compression Tools as you can (Double click to edit)",
      "metadata": {
        "tags": [],
        "editable": true,
        "slideshow": {
          "slide_type": "slide"
        },
        "raw_mimetype": ""
      }
    },
    {
      "cell_type": "code",
      "source": "",
      "metadata": {
        "trusted": true
      },
      "outputs": [],
      "execution_count": null
    },
    {
      "cell_type": "markdown",
      "source": "# Encryption Software\n\nSet up",
      "metadata": {
        "nteract": {
          "transient": {
            "deleting": false
          }
        },
        "tags": [],
        "editable": true,
        "slideshow": {
          "slide_type": "slide"
        }
      }
    },
    {
      "cell_type": "code",
      "source": "import micropip\nawait micropip.install([\"cryptography\", \"rsa\"])",
      "metadata": {
        "jupyter": {
          "source_hidden": false,
          "outputs_hidden": false
        },
        "nteract": {
          "transient": {
            "deleting": false
          }
        },
        "collapsed": false,
        "trusted": true,
        "tags": [],
        "editable": true,
        "slideshow": {
          "slide_type": ""
        }
      },
      "outputs": [],
      "execution_count": null
    },
    {
      "cell_type": "markdown",
      "source": "## Utility Software : Encryption\n\nEncryption is the process of encoding the data. i.e converting plain text into ciphertext. This conversion is done with a key called an encryption key.\n\n## Decryption:\n\nDecryption is the process of decoding the encoded data. Converting the ciphertext into plain text. This process requires a key that we used for encryption.\n\n### Keys\nWe require a key for encryption. There are two main types of keys used for encryption and decryption. They are Symmetric-key and Asymmetric-key.",
      "metadata": {
        "tags": [],
        "editable": true,
        "slideshow": {
          "slide_type": "slide"
        }
      }
    },
    {
      "cell_type": "markdown",
      "source": "## What is Symmetry ?\n",
      "metadata": {
        "tags": [],
        "editable": true,
        "slideshow": {
          "slide_type": "slide"
        }
      }
    },
    {
      "cell_type": "markdown",
      "source": "### Symmetric-key Encryption\n\nUse the same key to encrypt and then decrypt data.",
      "metadata": {
        "tags": [],
        "editable": true,
        "slideshow": {
          "slide_type": "fragment"
        }
      }
    },
    {
      "cell_type": "code",
      "source": "from cryptography.fernet import Fernet\n\n# we will be encrypting the below string.\nmessage = \"10X/Co1 is learning symmetric encryption\"\n\n# generate a key for encryption and decryption. You can use fernet to generate the key or use random key generator\n\nkey = Fernet.generate_key()\n\nprint(\"key =\", key)\n\n# Instance the Fernet class with the key\n\nfernet = Fernet(key)\n\n# then use the Fernet class instance to encrypt the string string must be encoded to byte string before encryption\nencMessage = fernet.encrypt(message.encode())\n\nprint(\"original string =\", message)\nprint(\"encrypted string =\", encMessage)",
      "metadata": {
        "trusted": true,
        "tags": [],
        "editable": true,
        "slideshow": {
          "slide_type": ""
        }
      },
      "outputs": [],
      "execution_count": null
    },
    {
      "cell_type": "code",
      "source": "",
      "metadata": {
        "trusted": true,
        "tags": [],
        "editable": true,
        "slideshow": {
          "slide_type": ""
        }
      },
      "outputs": [],
      "execution_count": null
    },
    {
      "cell_type": "markdown",
      "source": "### Then Decrypt it",
      "metadata": {
        "tags": [],
        "editable": true,
        "slideshow": {
          "slide_type": "slide"
        }
      }
    },
    {
      "cell_type": "code",
      "source": "# decrypt the encrypted string with the Fernet instance of the key, that was used for encrypting the string\n# encoded byte string is returned by decrypt method, so decode it to string with decode methods\ndecMessage = fernet.decrypt(encMessage).decode()\n\nprint(\"decrypted string = \", decMessage)\n",
      "metadata": {
        "trusted": true,
        "tags": [],
        "editable": true,
        "slideshow": {
          "slide_type": ""
        }
      },
      "outputs": [],
      "execution_count": null
    },
    {
      "cell_type": "code",
      "source": "",
      "metadata": {
        "trusted": true,
        "tags": [],
        "editable": true,
        "slideshow": {
          "slide_type": ""
        }
      },
      "outputs": [],
      "execution_count": null
    },
    {
      "cell_type": "markdown",
      "source": "### Asymmetric-key Encryption\n\nUsing different keys to encrypt and decrypt data.",
      "metadata": {
        "tags": [],
        "editable": true,
        "slideshow": {
          "slide_type": "slide"
        }
      }
    },
    {
      "cell_type": "code",
      "source": "import rsa\n\n# generate public and private keys with rsa.newkeys method,this method accepts \n# key length as its parameter key length should be at least 16\npublicKey, privateKey = rsa.newkeys(512)\n\n# this is the string that we will be encrypting\nmessage = \"10X/Co1 is learning asymmetric encryption\"\n\n# rsa.encrypt method is used to encrypt string with public key string should be \n# encode to byte string before encryption with encode method\nencMessage = rsa.encrypt(message.encode(), publicKey)\n\nprint(\"Public Key = \", publicKey)\nprint(\"Original String =\", message)\nprint(\"Encrypted String =\", encMessage)\n",
      "metadata": {
        "trusted": true,
        "tags": [],
        "editable": true,
        "slideshow": {
          "slide_type": ""
        }
      },
      "outputs": [],
      "execution_count": null
    },
    {
      "cell_type": "code",
      "source": "",
      "metadata": {
        "trusted": true,
        "tags": [],
        "editable": true,
        "slideshow": {
          "slide_type": ""
        }
      },
      "outputs": [],
      "execution_count": null
    },
    {
      "cell_type": "markdown",
      "source": "### Asymmetric-key Decryption",
      "metadata": {
        "tags": [],
        "editable": true,
        "slideshow": {
          "slide_type": "slide"
        }
      }
    },
    {
      "cell_type": "code",
      "source": "# the encrypted message can be decrypted with ras.decrypt method and private key\n# decrypt method returns encoded byte string, use decode method to convert it to string\n# public key cannot be used for decryption\ndecMessage = rsa.decrypt(encMessage, privateKey).decode()\n\nprint(\"Decrypted String =\", decMessage)\n",
      "metadata": {
        "trusted": true,
        "tags": [],
        "editable": true,
        "slideshow": {
          "slide_type": ""
        }
      },
      "outputs": [],
      "execution_count": null
    },
    {
      "cell_type": "code",
      "source": "",
      "metadata": {
        "trusted": true,
        "tags": [],
        "editable": true,
        "slideshow": {
          "slide_type": ""
        }
      },
      "outputs": [],
      "execution_count": null
    },
    {
      "cell_type": "markdown",
      "source": "\n## Save and turn in",
      "metadata": {
        "nteract": {
          "transient": {
            "deleting": false
          }
        },
        "tags": [],
        "editable": true,
        "slideshow": {
          "slide_type": "slide"
        }
      }
    }
  ]
}