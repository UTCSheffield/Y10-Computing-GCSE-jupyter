{
  "cells": [
    {
      "cell_type": "markdown",
      "source": [
        "# Utility Software : Compression\n",
        "\n",
        "Utility Software that compresses is almost always **Lossless** as you need to get the files back exactly like there orginal.\n",
        "\n",
        "## When is lossy compression useful?\n"
      ],
      "metadata": {}
    },
    {
      "cell_type": "markdown",
      "source": [
        "Double click here to edit"
      ],
      "metadata": {
        "nteract": {
          "transient": {
            "deleting": false
          }
        }
      }
    },
    {
      "cell_type": "markdown",
      "source": [
        "Press \"Shift + Enter\" to process a box and move on to the next bit. "
      ],
      "metadata": {
        "nteract": {
          "transient": {
            "deleting": false
          }
        }
      }
    },
    {
      "cell_type": "markdown",
      "source": [
        "## Set up\n",
        "\n",
        "Use \"Shift + Enter\" to run the next 2 blocks, this will get everything we need set up.\n"
      ],
      "metadata": {
        "nteract": {
          "transient": {
            "deleting": false
          }
        }
      }
    },
    {
      "cell_type": "code",
      "source": [
        "# Install 2 python libraries\n",
        "import micropip\n",
        "await micropip.install([\"python-rle\", \"pycountry\"]) # Install required libraries"
      ],
      "outputs": [],
      "execution_count": 2,
      "metadata": {}
    },
    {
      "cell_type": "code",
      "source": [
        "# Import libraries\n",
        "import rle\n",
        "from js import fetch\n",
        "import json\n",
        "from PIL import Image, ImageDraw\n",
        "import numpy as np\n",
        "import pycountry\n",
        "import sys\n",
        "\n",
        "class NpEncoder(json.JSONEncoder):\n",
        "    \"\"\"Work around for numpy to JSON\"\"\"\n",
        "    def default(self, obj):\n",
        "        if isinstance(obj, np.bool_):\n",
        "            return bool(obj)\n",
        "        if isinstance(obj, (np.floating, np.complexfloating)):\n",
        "            return float(obj)\n",
        "        if isinstance(obj, np.integer):\n",
        "            return int(obj)\n",
        "        if isinstance(obj, np.ndarray):\n",
        "            return obj.tolist()\n",
        "        if isinstance(obj, np.string_):\n",
        "            return str(obj)\n",
        "        return super(NpEncoder, self).default(obj)\n",
        "         \n",
        "async def load_file_into_in_mem_filesystem(url, fn=None):\n",
        "    \"\"\"Load a file from a URL into an in-memory filesystem.\"\"\"\n",
        "    # Create a filename if required\n",
        "    fn = fn if fn is not None else url.split(\"/\")[-1]\n",
        "    # Fetch file from URL\n",
        "    res = await fetch(url)\n",
        "    # Buffer it\n",
        "    buffer = await res.arrayBuffer()\n",
        "    # Write file to in-memory file system\n",
        "    open(fn, \"wb\").write(bytes(buffer.valueOf().to_py()))\n",
        " \n",
        "    return fn\n",
        "\n",
        "\n",
        "async def fetch_flag(text):\n",
        "    \"\"\"Get a flag from the web by eith 2 letter code or searching for that code using the text \"\"\"\n",
        "    if (len(text) > 2):\n",
        "        code = pycountry.countries.search_fuzzy(text)[0].alpha_2\n",
        "    code = code.lower()\n",
        "    url = \"https://raw.githubusercontent.com/hampusborgos/country-flags/main/png100px/\"+code+\".png\"\n",
        "    print(url)\n",
        "    flag_file = await load_file_into_in_mem_filesystem(url)\n",
        "    return flag_file\n",
        "\n",
        "\n",
        "def compress_VertRleOfHoriRle(dat):\n",
        "    \"\"\"Compress dat by doing a run length encoding up the column after they been RLEd along the rows already\n",
        "    Return string\"\"\"\n",
        "    lines = []\n",
        "    for x in dat:\n",
        "        x_rle = rle.encode(x.tolist())\n",
        "        lines.append(x_rle)\n",
        "    out = rle.encode(lines)\n",
        "    return json.dumps(out, cls=NpEncoder, separators=(',', ':'))\n",
        "\n",
        "def decompress_VertRleOfHoriRle(text):\n",
        "    \"\"\"Decode the RLE Vertically first, the horizontally creating a grid of pixels\"\"\"\n",
        "    comp = json.loads(text)\n",
        "    out = [rle.decode(x[0], x[1]) for x in rle.decode(comp[0], comp[1])]\n",
        "    return out\n",
        "\n",
        "def compress_HoriRleOfVertRle(dat):\n",
        "    \"\"\"Compress dat by doing a run length encoding along the row after they been RLEd up the columns already\n",
        "    Return String\"\"\"\n",
        "    cols = []\n",
        "    for col in dat.T:\n",
        "        cols.append(rle.encode(col.tolist()))\n",
        "    out = rle.encode(cols)\n",
        "    return json.dumps(out, cls=NpEncoder, separators=(',', ':'))\n",
        "\n",
        "def decompress_HoriRleOfVertRle(text):\n",
        "    \"\"\"Decode the RLE Horizontally first, placing it in a grid\"\"\"\n",
        "    comp = json.loads(text)\n",
        "    dat = []\n",
        "    cols = rle.decode(comp[0], comp[1])\n",
        "    for x in range(len(cols)):\n",
        "        col = rle.decode(cols[x][0], cols[x][1])\n",
        "        for y in range(len(col)):\n",
        "            if x == 0:\n",
        "                dat.append([])\n",
        "            dat[y].append(col[y])\n",
        "    return  dat\n",
        "\n",
        "def createImage(data, palette):\n",
        "    image = Image.new(\"P\", (len(data[0]), len(data)))\n",
        "    image.putpalette(palette)\n",
        "    for x in range(image.width):\n",
        "        for y in range(image.height):\n",
        "            image.putpixel((x,y), data[y][x])\n",
        "    return image\n",
        "\n",
        "# rle-encode.py\n",
        "\n",
        "def rle_encode(data):\n",
        "    encoding = ''\n",
        "    prev_char = ''\n",
        "    count = 1\n",
        "\n",
        "    if not data: return ''\n",
        "\n",
        "    for char in data:\n",
        "        # If the prev and current characters\n",
        "        # don't match...\n",
        "        if char != prev_char:\n",
        "            # ...then add the count and character\n",
        "            # to our encoding\n",
        "            if prev_char:\n",
        "                encoding += str(count) + prev_char\n",
        "            count = 1\n",
        "            prev_char = char\n",
        "        else:\n",
        "            # Or increment our counter\n",
        "            # if the characters do match\n",
        "            count += 1\n",
        "    else:\n",
        "        # Finish off the encoding\n",
        "        encoding += str(count) + prev_char\n",
        "        return encoding\n",
        "\n",
        "# rle-decode.py\n",
        "\n",
        "def rle_decode(data):\n",
        "    decode = ''\n",
        "    count = ''\n",
        "    for char in data:\n",
        "        # If the character is numerical...\n",
        "        if char.isdigit():\n",
        "            # ...append it to our count\n",
        "            count += char\n",
        "        else:\n",
        "            # Otherwise we've seen a non-numerical\n",
        "            # character and need to expand it for\n",
        "            # the decoding\n",
        "            decode += char * int(count)\n",
        "            count = ''\n",
        "    return decode\n",
        "\n",
        "def rle_results(plain_text): \n",
        "    encoded = rle_encode(plain_text)\n",
        "    decoded = rle_decode(encoded)\n",
        "    print(\"Original =\", plain_text, \"Orginal Length\", len(plain_text), \"bytes (assuming ASCII)\")\n",
        "    print(\"Encoded  =\", encoded, \"Encoded Length\", len(encoded), \"bytes (assuming ASCII)\")\n",
        "    print(\"Decoded  =\", decoded)\n",
        "\n",
        "async def flags_rle_results(country_name, debug = False):\n",
        "\n",
        "    file_name = await fetch_flag(country_name)\n",
        "    print(\"country_name= \", country_name, \"file_name =\", file_name)\n",
        "\n",
        "    im = Image.open(file_name)\n",
        "    im2 = im.quantize(dither = Image.Dither.NONE)\n",
        "\n",
        "    display(im2) # Show the image\n",
        "    palette = im2.getpalette() \n",
        "    dat = np.asarray(im2)\n",
        "    print(\"Size of original image approx\", (im2.width * im2.height) + len(palette), \"bytes\") \n",
        "\n",
        "    HVtext = compress_HoriRleOfVertRle(dat)\n",
        "    print(\"HoriRleOfVertRle\", \"length =\", len(HVtext), \"bytes\")\n",
        "    if debug:\n",
        "        print( \"HVtext =\", HVtext)\n",
        "    uncompressed = decompress_HoriRleOfVertRle(HVtext)\n",
        "    #im3 = createImage(decompress_HoriRleOfVertRle(HVtext), im2.getpalette())\n",
        "    #display(im3)\n",
        "\n",
        "    VHtext = compress_VertRleOfHoriRle(dat)\n",
        "    print(\"HoriRleOfVertRle\", \"length =\", len(VHtext), \"bytes\")\n",
        "    if debug:\n",
        "        print( \"VHtext =\", VHtext)\n",
        "    im4 = createImage(decompress_VertRleOfHoriRle(VHtext), im2.getpalette())\n",
        "    #display(im4)\n",
        "    "
      ],
      "outputs": [],
      "execution_count": 3,
      "metadata": {}
    },
    {
      "cell_type": "markdown",
      "source": [
        "## Simple Compression : Run Length Encoding \n",
        "\n",
        "Steps :\n",
        "1. Get Text\n",
        "2. Start on left\n",
        "3. Get next letter\n",
        "4. How many of this letter next are next to each other (the run)?\n",
        "5. Write down the Run Length and the Letter\n",
        "6. Go To 3\n",
        "\n",
        "### Task : \n",
        "Follow the instructions and fill in ```hand_encoded=\"1A\"``` The first run is done for you.\n",
        "\n",
        "Once you have it correct \"Shift + Enter\" will run it\n",
        "\n"
      ],
      "metadata": {
        "nteract": {
          "transient": {
            "deleting": false
          }
        }
      }
    },
    {
      "cell_type": "code",
      "source": [
        "plain_text = \"ABBCCCDDDEEEEFFFFFGGGGGG\"\n",
        "\n",
        "# TODO : Complete this Run Length encoded string by hand\n",
        "hand_encoded = \"1A\"\n",
        "\n",
        "encoded = rle_encode(plain_text)\n",
        "assert hand_encoded == encoded, \"That's not quite right\" \n",
        "encoded"
      ],
      "outputs": [
        {
          "output_type": "error",
          "ename": "<class 'AssertionError'>",
          "evalue": "That's not quite right",
          "traceback": [
            "\u001b[0;31m---------------------------------------------------------------------------\u001b[0m",
            "\u001b[0;31mAssertionError\u001b[0m                            Traceback (most recent call last)",
            "Cell \u001b[0;32mIn[5], line 7\u001b[0m\n\u001b[1;32m      4\u001b[0m hand_encoded \u001b[38;5;241m=\u001b[39m \u001b[38;5;124m\"\u001b[39m\u001b[38;5;124m1A\u001b[39m\u001b[38;5;124m\"\u001b[39m\n\u001b[1;32m      6\u001b[0m encoded \u001b[38;5;241m=\u001b[39m rle_encode(plain_text)\n\u001b[0;32m----> 7\u001b[0m \u001b[38;5;28;01massert\u001b[39;00m hand_encoded \u001b[38;5;241m==\u001b[39m encoded, \u001b[38;5;124m\"\u001b[39m\u001b[38;5;124mThat\u001b[39m\u001b[38;5;124m'\u001b[39m\u001b[38;5;124ms not quite right\u001b[39m\u001b[38;5;124m\"\u001b[39m \n\u001b[1;32m      8\u001b[0m encoded\n",
            "\u001b[0;31mAssertionError\u001b[0m: That's not quite right"
          ]
        }
      ],
      "execution_count": 4,
      "metadata": {
        "jupyter": {
          "source_hidden": false,
          "outputs_hidden": false
        },
        "nteract": {
          "transient": {
            "deleting": false
          }
        }
      }
    },
    {
      "cell_type": "code",
      "source": [],
      "outputs": [],
      "execution_count": null,
      "metadata": {
        "jupyter": {
          "source_hidden": false,
          "outputs_hidden": false
        },
        "nteract": {
          "transient": {
            "deleting": false
          }
        }
      }
    },
    {
      "cell_type": "markdown",
      "source": [
        "#### Evidence"
      ],
      "metadata": {
        "nteract": {
          "transient": {
            "deleting": false
          }
        }
      }
    },
    {
      "cell_type": "code",
      "source": [
        "rle_decode(encoded)"
      ],
      "outputs": [
        {
          "output_type": "execute_result",
          "execution_count": 6,
          "data": {
            "text/plain": "'ABBCCCDDDEEEEFFFFFGGGGGG'"
          },
          "metadata": {}
        }
      ],
      "execution_count": 5,
      "metadata": {
        "jupyter": {
          "source_hidden": false,
          "outputs_hidden": false
        },
        "nteract": {
          "transient": {
            "deleting": false
          }
        }
      }
    },
    {
      "cell_type": "markdown",
      "source": [
        "#### Is it any good?"
      ],
      "metadata": {
        "nteract": {
          "transient": {
            "deleting": false
          }
        }
      }
    },
    {
      "cell_type": "code",
      "source": [
        "plain_text = \"ABBCCCDDDEEEEFFFFFGGGGGG\"\n",
        "rle_results(plain_text)\n",
        "\n",
        "plain_text = \"Our Deepest Fear Is Not That We Are Inadequate. Our Deepest Fear Is That We Are Powerful Beyond Measure\"\n",
        "rle_results(plain_text)"
      ],
      "outputs": [
        {
          "output_type": "stream",
          "name": "stdout",
          "text": "Original = ABBCCCDDDEEEEFFFFFGGGGGG Orginal Length 24 bytes (assuming ASCII)\nEncoded  = 1A2B3C3D4E5F6G Encoded Length 14 bytes (assuming ASCII)\nDecoded  = ABBCCCDDDEEEEFFFFFGGGGGG\nOriginal = Our Deepest Fear Is Not That We Are Inadequate. Our Deepest Fear Is That We Are Powerful Beyond Measure Orginal Length 103 bytes (assuming ASCII)\nEncoded  = 1O1u1r1 1D2e1p1e1s1t1 1F1e1a1r1 1I1s1 1N1o1t1 1T1h1a1t1 1W1e1 1A1r1e1 1I1n1a1d1e1q1u1a1t1e1.1 1O1u1r1 1D2e1p1e1s1t1 1F1e1a1r1 1I1s1 1T1h1a1t1 1W1e1 1A1r1e1 1P1o1w1e1r1f1u1l1 1B1e1y1o1n1d1 1M1e1a1s1u1r1e Encoded Length 202 bytes (assuming ASCII)\nDecoded  = Our Deepest Fear Is Not That We Are Inadequate. Our Deepest Fear Is That We Are Powerful Beyond Measure\n"
        }
      ],
      "execution_count": 6,
      "metadata": {
        "jupyter": {
          "source_hidden": false,
          "outputs_hidden": false
        },
        "nteract": {
          "transient": {
            "deleting": false
          }
        }
      }
    },
    {
      "cell_type": "markdown",
      "source": [
        "### Is Run Length Encoding Good for Text?\n",
        "\n",
        "Double Click and answer here."
      ],
      "metadata": {
        "nteract": {
          "transient": {
            "deleting": false
          }
        }
      }
    },
    {
      "cell_type": "markdown",
      "source": [
        "## Loading an Image"
      ],
      "metadata": {
        "nteract": {
          "transient": {
            "deleting": false
          }
        }
      }
    },
    {
      "cell_type": "code",
      "source": [
        "country_name = 'Germany'\n",
        "\n",
        "file_name = await fetch_flag(country_name)\n",
        "print(\"file_name =\", file_name)\n",
        "\n",
        "im = Image.open(file_name)\n",
        "im2 = im.quantize(dither = Image.Dither.NONE)\n",
        "\n",
        "im2 # Show the image\n"
      ],
      "outputs": [
        {
          "output_type": "stream",
          "name": "stdout",
          "text": "https://raw.githubusercontent.com/hampusborgos/country-flags/main/png100px/de.png\nfile_name = de.png\n"
        },
        {
          "output_type": "execute_result",
          "execution_count": 8,
          "data": {
            "text/plain": "<PIL.Image.Image image mode=P size=100x60>",
            "image/png": "[encoded data removed]"
          },
          "metadata": {}
        }
      ],
      "execution_count": 7,
      "metadata": {
        "jupyter": {
          "source_hidden": false,
          "outputs_hidden": false
        },
        "nteract": {
          "transient": {
            "deleting": false
          }
        }
      }
    },
    {
      "cell_type": "code",
      "source": [
        " "
      ],
      "outputs": [],
      "execution_count": 8,
      "metadata": {
        "jupyter": {
          "source_hidden": false,
          "outputs_hidden": false
        },
        "nteract": {
          "transient": {
            "deleting": false
          }
        }
      }
    },
    {
      "cell_type": "markdown",
      "source": [
        "## Looking at the data\n",
        "\n"
      ],
      "metadata": {
        "nteract": {
          "transient": {
            "deleting": false
          }
        }
      }
    },
    {
      "cell_type": "markdown",
      "source": [
        "### Paint by Numbers"
      ],
      "metadata": {
        "nteract": {
          "transient": {
            "deleting": false
          }
        }
      }
    },
    {
      "cell_type": "code",
      "source": [
        "palette = im2.getpalette() \n",
        "print(\"Palette\", palette[:60])\n",
        "for colour in range(3):\n",
        "    print(\"Colour\", colour, \"Red =\",palette[(colour*3)], \"Green =\",palette[(colour*3)+1], \"Blue =\",palette[(colour*3)+2])\n",
        "\n",
        "dat = np.asarray(im2)\n",
        "\n",
        "print(\"The colours in the top row\", dat[0]) # Show the data of the bottom row"
      ],
      "outputs": [
        {
          "output_type": "stream",
          "name": "stdout",
          "text": "Palette [255, 206, 0, 221, 0, 0, 0, 0, 0, 0, 0, 0, 0, 0, 0, 0, 0, 0, 0, 0, 0, 0, 0, 0, 0, 0, 0, 0, 0, 0, 0, 0, 0, 0, 0, 0, 0, 0, 0, 0, 0, 0, 0, 0, 0, 0, 0, 0, 0, 0, 0, 0, 0, 0, 0, 0, 0, 0, 0, 0]\nColour 0 Red = 255 Green = 206 Blue = 0\nColour 1 Red = 221 Green = 0 Blue = 0\nColour 2 Red = 0 Green = 0 Blue = 0\nThe colours in the top row [2 2 2 2 2 2 2 2 2 2 2 2 2 2 2 2 2 2 2 2 2 2 2 2 2 2 2 2 2 2 2 2 2 2 2 2 2\n 2 2 2 2 2 2 2 2 2 2 2 2 2 2 2 2 2 2 2 2 2 2 2 2 2 2 2 2 2 2 2 2 2 2 2 2 2\n 2 2 2 2 2 2 2 2 2 2 2 2 2 2 2 2 2 2 2 2 2 2 2 2 2 2]\n"
        }
      ],
      "execution_count": 9,
      "metadata": {
        "jupyter": {
          "source_hidden": false,
          "outputs_hidden": false
        },
        "nteract": {
          "transient": {
            "deleting": false
          }
        }
      }
    },
    {
      "cell_type": "code",
      "source": [
        "#np.set_printoptions(threshold=sys.maxsize) # Print every bit\n",
        "#dat"
      ],
      "outputs": [],
      "execution_count": 10,
      "metadata": {
        "jupyter": {
          "source_hidden": false,
          "outputs_hidden": false
        },
        "nteract": {
          "transient": {
            "deleting": false
          }
        }
      }
    },
    {
      "cell_type": "markdown",
      "source": [
        "## Compressing an Image : RLE H of V\n",
        "\n",
        "Run Length encoding each Column upwards and then RLE those columns again sidewards "
      ],
      "metadata": {
        "nteract": {
          "transient": {
            "deleting": false
          }
        }
      }
    },
    {
      "cell_type": "code",
      "source": [
        "print(\"Size of original image approx\", (im2.width * im2.height) + len(palette), \"bytes\") \n",
        "\n",
        "HVtext = compress_HoriRleOfVertRle(dat)\n",
        "print(\"HoriRleOfVertRle\", \"length =\", len(HVtext), \"bytes\")\n",
        "print( \"HVtext =\", HVtext)\n",
        "uncompressed = decompress_HoriRleOfVertRle(HVtext)\n",
        "im3 = createImage(decompress_HoriRleOfVertRle(HVtext), im2.getpalette())\n",
        "im3"
      ],
      "outputs": [
        {
          "output_type": "stream",
          "name": "stdout",
          "text": "Size of original image approx 6768 bytes\nHoriRleOfVertRle length = 30 bytes\nHVtext = [[[[2,1,0],[20,20,20]]],[100]]\n"
        },
        {
          "output_type": "execute_result",
          "execution_count": 11,
          "data": {
            "text/plain": "<PIL.Image.Image image mode=P size=100x60>",
            "image/png": "[encoded data removed]"
          },
          "metadata": {}
        }
      ],
      "execution_count": 11,
      "metadata": {
        "jupyter": {
          "source_hidden": false,
          "outputs_hidden": false
        },
        "nteract": {
          "transient": {
            "deleting": false
          }
        }
      }
    },
    {
      "cell_type": "markdown",
      "source": [
        "- This is compressing to a string representation of Arrays (JSON) (we could use binary to make it even small).\n",
        "- In the case of Germany  \n",
        "    - HVtext = [[[[2,1,0],[20,20,20]]],[**100**]] a 100 columns of ..\n",
        "        - HVtext = [[[[**2**,1,0],[**20**,20,20]]],[100]] 20 pixels of palette colour 2 [0,0,0] Black\n",
        "        - HVtext = [[[[2,**1**,0],[20,**20**,20]]],[100]] 20 pixels of palette colour 1 [0,221,0] Red\n",
        "        - HVtext = [[[[2,1,**0**],[20,20,**20**]]],[100]] 20 pixels of palette colour 1 [255, 206, 0] Yellow\n"
      ],
      "metadata": {
        "nteract": {
          "transient": {
            "deleting": false
          }
        }
      }
    },
    {
      "cell_type": "markdown",
      "source": [
        "## Compressing an Image : RLE V of H\n",
        "\n",
        "Run Length encoding each row left to right then RLE those together upwards "
      ],
      "metadata": {
        "nteract": {
          "transient": {
            "deleting": false
          }
        }
      }
    },
    {
      "cell_type": "code",
      "source": [
        "VHtext = compress_VertRleOfHoriRle(dat)\n",
        "print(\"HoriRleOfVertRle\", \"length =\", len(VHtext), \"bytes\")\n",
        "print( \"VHtext =\", VHtext)\n",
        "im4 = createImage(decompress_VertRleOfHoriRle(VHtext), im2.getpalette())\n",
        "im4"
      ],
      "outputs": [
        {
          "output_type": "stream",
          "name": "stdout",
          "text": "HoriRleOfVertRle length = 50 bytes\nVHtext = [[[[2],[100]],[[1],[100]],[[0],[100]]],[20,20,20]]\n"
        },
        {
          "output_type": "execute_result",
          "execution_count": 12,
          "data": {
            "text/plain": "<PIL.Image.Image image mode=P size=100x60>",
            "image/png": "[encoded data removed]"
          },
          "metadata": {}
        }
      ],
      "execution_count": 12,
      "metadata": {
        "jupyter": {
          "source_hidden": false,
          "outputs_hidden": false
        },
        "nteract": {
          "transient": {
            "deleting": false
          }
        }
      }
    },
    {
      "cell_type": "markdown",
      "source": [
        "- In the case of Germany  \n",
        "    - HVtext = [[**[[2],[100]]**,[[1],[100]],[[0],[100]]],[**20**,20,20]] 20 rows of 100 pixels of palette colour 2 [0,0,0] Black\n",
        "    - HVtext = [[[[2],[100]],**[[1],[100]]**,[[0],[100]]],[20,**20**,20]] 20 rows of 100 pixels of palette colour 1 [0,221,0] Red\n",
        "    - HVtext = [[[[2],[100]],[[1],[100]],**[[0],[100]]**],[20,20,**20**]] 20 rows of 100 pixels of palette colour 0 [255, 206, 0] Yellow"
      ],
      "metadata": {
        "nteract": {
          "transient": {
            "deleting": false
          }
        }
      }
    },
    {
      "cell_type": "markdown",
      "source": [
        "### Remix Germany\n",
        "\n",
        "\n",
        "Change the flag around maybe change the size (it might crash don't worry.)"
      ],
      "metadata": {
        "nteract": {
          "transient": {
            "deleting": false
          }
        }
      }
    },
    {
      "cell_type": "code",
      "source": [
        "palette = [255, 206, 0, 221, 0, 0, 0, 0, 0]\n",
        "remix = \"[[[[2,1,0],[20,20,20]]],[100]]\"\n",
        "createImage(decompress_HoriRleOfVertRle(remix), palette)"
      ],
      "outputs": [
        {
          "output_type": "execute_result",
          "execution_count": 13,
          "data": {
            "text/plain": "<PIL.Image.Image image mode=P size=100x60>",
            "image/png": "[encoded data removed]"
          },
          "metadata": {}
        }
      ],
      "execution_count": 13,
      "metadata": {
        "jupyter": {
          "source_hidden": false,
          "outputs_hidden": false
        },
        "nteract": {
          "transient": {
            "deleting": false
          }
        }
      }
    },
    {
      "cell_type": "markdown",
      "source": [
        "### Is Run Length Encoding Good for Images ?"
      ],
      "metadata": {
        "nteract": {
          "transient": {
            "deleting": false
          }
        }
      }
    },
    {
      "cell_type": "code",
      "source": [
        "await flags_rle_results(country_name = 'France')\n",
        "await flags_rle_results(country_name = 'Mexico')\n",
        "await flags_rle_results(country_name = 'Iran')\n",
        "await flags_rle_results(country_name = 'Brazil')\n",
        "await flags_rle_results(country_name = 'Britain')\n",
        "await flags_rle_results(country_name = 'Afghanistan')\n",
        "await flags_rle_results(country_name = 'Pitcairn')"
      ],
      "outputs": [
        {
          "output_type": "stream",
          "name": "stdout",
          "text": "https://raw.githubusercontent.com/hampusborgos/country-flags/main/png100px/fr.png\ncountry_name=  France file_name = fr.png\n"
        },
        {
          "output_type": "display_data",
          "data": {
            "text/plain": "<PIL.Image.Image image mode=P size=100x67>",
            "image/png": "[encoded data removed]"
          },
          "metadata": {}
        },
        {
          "output_type": "stream",
          "name": "stdout",
          "text": "Size of original image approx 7468 bytes\nHoriRleOfVertRle length = 89 bytes\nHoriRleOfVertRle length = 68 bytes\nSubdivisionHierarchy(code='MX-MEX', country_code='MX', name='México', parent_code=None, type='State')\nhttps://raw.githubusercontent.com/hampusborgos/country-flags/main/png100px/mx.png\ncountry_name=  Mexico file_name = mx.png\n"
        },
        {
          "output_type": "display_data",
          "data": {
            "text/plain": "<PIL.Image.Image image mode=P size=100x57>",
            "image/png": "[encoded data removed]"
          },
          "metadata": {}
        },
        {
          "output_type": "stream",
          "name": "stdout",
          "text": "Size of original image approx 6468 bytes\nHoriRleOfVertRle length = 2801 bytes\nHoriRleOfVertRle length = 3299 bytes\nhttps://raw.githubusercontent.com/hampusborgos/country-flags/main/png100px/ir.png\ncountry_name=  Iran file_name = ir.png\n"
        },
        {
          "output_type": "display_data",
          "data": {
            "text/plain": "<PIL.Image.Image image mode=P size=100x57>",
            "image/png": "[encoded data removed]"
          },
          "metadata": {}
        },
        {
          "output_type": "stream",
          "name": "stdout",
          "text": "Size of original image approx 6468 bytes\nHoriRleOfVertRle length = 5806 bytes\nHoriRleOfVertRle length = 3583 bytes\nhttps://raw.githubusercontent.com/hampusborgos/country-flags/main/png100px/br.png\ncountry_name=  Brazil file_name = br.png\n"
        },
        {
          "output_type": "display_data",
          "data": {
            "text/plain": "<PIL.Image.Image image mode=P size=100x70>",
            "image/png": "[encoded data removed]"
          },
          "metadata": {}
        },
        {
          "output_type": "stream",
          "name": "stdout",
          "text": "Size of original image approx 7768 bytes\nHoriRleOfVertRle length = 6296 bytes\nHoriRleOfVertRle length = 5373 bytes\nhttps://raw.githubusercontent.com/hampusborgos/country-flags/main/png100px/gb.png\ncountry_name=  Britain file_name = gb.png\n"
        },
        {
          "output_type": "display_data",
          "data": {
            "text/plain": "<PIL.Image.Image image mode=P size=100x50>",
            "image/png": "[encoded data removed]"
          },
          "metadata": {}
        },
        {
          "output_type": "stream",
          "name": "stdout",
          "text": "Size of original image approx 5768 bytes\nHoriRleOfVertRle length = 7689 bytes\nHoriRleOfVertRle length = 5436 bytes\nhttps://raw.githubusercontent.com/hampusborgos/country-flags/main/png100px/af.png\ncountry_name=  Afghanistan file_name = af.png\n"
        },
        {
          "output_type": "display_data",
          "data": {
            "text/plain": "<PIL.Image.Image image mode=P size=100x67>",
            "image/png": "[encoded data removed]"
          },
          "metadata": {}
        },
        {
          "output_type": "stream",
          "name": "stdout",
          "text": "Size of original image approx 7468 bytes\nHoriRleOfVertRle length = 11037 bytes\nHoriRleOfVertRle length = 11592 bytes\nhttps://raw.githubusercontent.com/hampusborgos/country-flags/main/png100px/pn.png\ncountry_name=  Pitcairn file_name = pn.png\n"
        },
        {
          "output_type": "display_data",
          "data": {
            "text/plain": "<PIL.Image.Image image mode=P size=100x50>",
            "image/png": "[encoded data removed]"
          },
          "metadata": {}
        },
        {
          "output_type": "stream",
          "name": "stdout",
          "text": "Size of original image approx 5768 bytes\nHoriRleOfVertRle length = 9302 bytes\nHoriRleOfVertRle length = 8473 bytes\n"
        }
      ],
      "execution_count": 14,
      "metadata": {
        "jupyter": {
          "source_hidden": false,
          "outputs_hidden": false
        },
        "nteract": {
          "transient": {
            "deleting": false
          }
        }
      }
    },
    {
      "cell_type": "markdown",
      "source": [
        "### Is Run Length Encoding Good for Images ?\n",
        "\n",
        "Double Click and answer here.\n"
      ],
      "metadata": {
        "nteract": {
          "transient": {
            "deleting": false
          }
        }
      }
    },
    {
      "cell_type": "markdown",
      "source": [
        "#### Explain any exceptions to that.\n",
        "\n",
        "Double Click and answer here.\n"
      ],
      "metadata": {
        "nteract": {
          "transient": {
            "deleting": false
          }
        }
      }
    },
    {
      "cell_type": "markdown",
      "source": [
        "# Encryption Software\n"
      ],
      "metadata": {
        "nteract": {
          "transient": {
            "deleting": false
          }
        }
      }
    },
    {
      "cell_type": "code",
      "source": [
        "import hashlib"
      ],
      "outputs": [],
      "execution_count": 1,
      "metadata": {
        "jupyter": {
          "source_hidden": false,
          "outputs_hidden": false
        },
        "nteract": {
          "transient": {
            "deleting": false
          }
        }
      }
    },
    {
      "cell_type": "markdown",
      "source": [
        "\n",
        "## Save and turn in"
      ],
      "metadata": {
        "nteract": {
          "transient": {
            "deleting": false
          }
        }
      }
    }
  ],
  "metadata": {
    "kernelspec": {
      "name": "python",
      "language": "python",
      "display_name": "Pyolite (preview)"
    },
    "language_info": {
      "codemirror_mode": {
        "name": "python",
        "version": 3
      },
      "file_extension": ".py",
      "mimetype": "text/x-python",
      "name": "python",
      "nbconvert_exporter": "python",
      "pygments_lexer": "ipython3",
      "version": "3.8"
    },
    "kernel_info": {
      "name": "python"
    },
    "nteract": {
      "version": "nteract-front-end@1.0.0"
    }
  },
  "nbformat": 4,
  "nbformat_minor": 2
}